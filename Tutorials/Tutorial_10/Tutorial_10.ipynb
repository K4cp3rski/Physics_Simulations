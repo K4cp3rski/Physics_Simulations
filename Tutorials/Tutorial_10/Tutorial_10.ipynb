{
 "cells": [
  {
   "cell_type": "markdown",
   "source": [
    "# Tutorial 10"
   ],
   "metadata": {
    "collapsed": false,
    "pycharm": {
     "name": "#%% md\n"
    }
   }
  },
  {
   "cell_type": "markdown",
   "source": [],
   "metadata": {
    "collapsed": false,
    "pycharm": {
     "name": "#%% md\n"
    }
   }
  },
  {
   "cell_type": "markdown",
   "source": [
    "Qubit gates:\n",
    "* X-gate (bit flip) $\\sigma_z$ Pauli matrix\n",
    "* Z-gate (Phase shift)\n",
    "* Haddamard gate (Democratic state). Transforms 0 state to + state, 1 state to - state"
   ],
   "metadata": {
    "collapsed": false,
    "pycharm": {
     "name": "#%% md\n"
    }
   }
  },
  {
   "cell_type": "code",
   "execution_count": 9,
   "outputs": [],
   "source": [
    "from qiskit import __version__, QuantumRegister, ClassicalRegister, QuantumCircuit, Aer, BasicAer, execute\n",
    "from qiskit.tools.visualization import circuit_drawer"
   ],
   "metadata": {
    "collapsed": false,
    "pycharm": {
     "name": "#%%\n"
    }
   }
  },
  {
   "cell_type": "code",
   "execution_count": 12,
   "outputs": [
    {
     "name": "stdout",
     "output_type": "stream",
     "text": [
      "Hi! qiskit at version  0.20.1\n"
     ]
    }
   ],
   "source": [
    "print(\"Hi! qiskit at version \", __version__)\n",
    "backend_sim = BasicAer.get_backend('qasm_simulator')\n",
    "backend_stat = BasicAer.get_backend('statevector_simulator')\n",
    "M_sim = Aer.backends(name='qasm_simulator')[0]\n",
    "S_sim = Aer.backends(name='statevector_simulator')[0]\n",
    "q = QuantumRegister(3)\n",
    "c = ClassicalRegister(3)"
   ],
   "metadata": {
    "collapsed": false,
    "pycharm": {
     "name": "#%%\n"
    }
   }
  },
  {
   "cell_type": "code",
   "execution_count": 13,
   "outputs": [],
   "source": [
    "qc = QuantumCircuit(q,c)"
   ],
   "metadata": {
    "collapsed": false,
    "pycharm": {
     "name": "#%%\n"
    }
   }
  },
  {
   "cell_type": "code",
   "execution_count": null,
   "outputs": [],
   "source": [
    "job_M = execute()"
   ],
   "metadata": {
    "collapsed": false,
    "pycharm": {
     "name": "#%%\n"
    }
   }
  }
 ],
 "metadata": {
  "kernelspec": {
   "name": "qpython",
   "language": "python",
   "display_name": "QPython"
  },
  "language_info": {
   "codemirror_mode": {
    "name": "ipython",
    "version": 2
   },
   "file_extension": ".py",
   "mimetype": "text/x-python",
   "name": "python",
   "nbconvert_exporter": "python",
   "pygments_lexer": "ipython2",
   "version": "2.7.6"
  }
 },
 "nbformat": 4,
 "nbformat_minor": 0
}