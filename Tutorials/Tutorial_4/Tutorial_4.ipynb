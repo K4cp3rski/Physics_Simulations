{
 "cells": [
  {
   "cell_type": "markdown",
   "metadata": {
    "pycharm": {
     "name": "#%% md\n"
    }
   },
   "source": [
    "# Tutorial 4"
   ]
  },
  {
   "cell_type": "code",
   "execution_count": 93,
   "metadata": {
    "collapsed": false,
    "jupyter": {
     "outputs_hidden": false
    },
    "pycharm": {
     "name": "#%%\n"
    }
   },
   "outputs": [
    {
     "name": "stdout",
     "output_type": "stream",
     "text": [
      "The autoreload extension is already loaded. To reload it, use:\n",
      "  %reload_ext autoreload\n"
     ]
    }
   ],
   "source": [
    "%load_ext autoreload\n",
    "\n",
    "%autoreload 2\n",
    "import matplotlib.pyplot as plt\n",
    "import numpy as np\n",
    "from numpy import linalg as LA\n",
    "from numba import jit\n",
    "from tut4 import get_gaussian_eta, get_particles_array, evolve, calculate_r2, get_MSD, get_several"
   ]
  },
  {
   "cell_type": "markdown",
   "metadata": {
    "pycharm": {
     "name": "#%% md\n"
    }
   },
   "source": [
    "## Ex.1"
   ]
  },
  {
   "cell_type": "code",
   "execution_count": 75,
   "metadata": {
    "collapsed": false,
    "jupyter": {
     "outputs_hidden": false
    },
    "pycharm": {
     "name": "#%%\n"
    }
   },
   "outputs": [],
   "source": [
    "nu = 0.5E-1\n",
    "alpha = 1E-1\n",
    "# v0 = 5\n",
    "v0_vec = np.array([3])\n",
    "# v0_vec = np.array([1, 3, 5, 7, 9])\n",
    "gamma = 1.0\n",
    "N = 1E+4\n",
    "dt = 1E-1\n",
    "t_tot = np.arange(dt, stop=100, step=dt)"
   ]
  },
  {
   "cell_type": "markdown",
   "metadata": {
    "pycharm": {
     "name": "#%% md\n"
    }
   },
   "source": [
    "We model the system as a matrix of N particles, with 5 variables:\n",
    "* rx\n",
    "* ry\n",
    "* theta\n",
    "All start in r(t_0) = 0"
   ]
  },
  {
   "cell_type": "code",
   "execution_count": null,
   "outputs": [],
   "source": [
    "def plot_MSD(MSD_tab, v0_vec):\n",
    "    plt.rcParams.update({\"text.usetex\": True, \"font.family\": \"Helvetica\"})\n",
    "    for MSD, v0 in zip(MSD_tab, v0_vec):\n",
    "        plt.loglog(t_tot, MSD, label=f\"v = {v0}\")\n",
    "    plt.legend()\n",
    "    plt.xlabel(r'$\\tau$(s)')\n",
    "    plt.ylabel(r'MSD')"
   ],
   "metadata": {
    "collapsed": false,
    "pycharm": {
     "name": "#%%\n"
    }
   }
  },
  {
   "cell_type": "code",
   "execution_count": 92,
   "outputs": [
    {
     "data": {
      "text/plain": "array([[ 0.42911436, -0.07088564,  0.05589007],\n       [ 0.46335474, -0.03664526,  0.1002096 ],\n       [ 0.5402033 ,  0.0402033 , -0.05609966],\n       ...,\n       [ 0.68856875,  0.18856875,  0.033706  ],\n       [ 0.51414645,  0.01414645, -0.07575356],\n       [ 0.60020252,  0.10020252, -0.04617202]])"
     },
     "execution_count": 92,
     "metadata": {},
     "output_type": "execute_result"
    }
   ],
   "source": [
    "M = get_particles_array(N)\n",
    "v0 = 5\n",
    "M_new = evolve(M, dt, gamma, v0, alpha, nu)\n",
    "M_new"
   ],
   "metadata": {
    "collapsed": false,
    "pycharm": {
     "name": "#%%\n"
    }
   }
  },
  {
   "cell_type": "code",
   "execution_count": 86,
   "metadata": {
    "collapsed": false,
    "jupyter": {
     "outputs_hidden": false
    },
    "pycharm": {
     "name": "#%%\n"
    }
   },
   "outputs": [],
   "source": [
    "MSD_tab = get_several(v0_vec)"
   ]
  },
  {
   "cell_type": "code",
   "execution_count": 87,
   "metadata": {
    "collapsed": false,
    "jupyter": {
     "outputs_hidden": false
    },
    "pycharm": {
     "name": "#%%\n"
    }
   },
   "outputs": [
    {
     "data": {
      "text/plain": "<Figure size 432x288 with 1 Axes>",
      "image/png": "[encoded data removed]"
     },
     "metadata": {
      "needs_background": "light"
     },
     "output_type": "display_data"
    }
   ],
   "source": [
    "plot_MSD(MSD_tab, v0_vec)"
   ]
  },
  {
   "cell_type": "code",
   "execution_count": null,
   "outputs": [],
   "source": [
    "# M = get_particles_array(N)\n",
    "# v0 =5"
   ],
   "metadata": {
    "collapsed": false,
    "pycharm": {
     "name": "#%%\n"
    }
   }
  },
  {
   "cell_type": "code",
   "execution_count": null,
   "outputs": [],
   "source": [
    "# new_M = evolve(M, dt,gamma, v0, alpha, nu)"
   ],
   "metadata": {
    "collapsed": false,
    "pycharm": {
     "name": "#%%\n"
    }
   }
  },
  {
   "cell_type": "code",
   "execution_count": null,
   "outputs": [],
   "source": [
    "\n",
    "# M = np.array([x, y, theta]).T"
   ],
   "metadata": {
    "collapsed": false,
    "pycharm": {
     "name": "#%%\n"
    }
   }
  },
  {
   "cell_type": "code",
   "execution_count": null,
   "outputs": [],
   "source": [
    "# MSD = np.zeros(t_tot.size)\n",
    "# N = int(N)\n",
    "# x = np.zeros(N)\n",
    "# y = np.zeros(N)\n",
    "# theta = np.zeros(N)\n",
    "# r2 = np.zeros(N)\n",
    "# for it, dt in enumerate(t_tot):\n",
    "#     for i in range(N-1):\n",
    "#         eta = get_gaussian_eta()\n",
    "#         x[i+1] = x[i] + dt/gamma*v0*np.cos(theta[i]) + np.sqrt(dt*alpha)*eta[0]\n",
    "#         y[i+1] = y[i] + dt/gamma*v0*np.sin(theta[i]) + np.sqrt(dt*alpha)*eta[1]\n",
    "#         r2[i+1] = np.power(x[i], 2) + np.power(y[i], 2)\n",
    "#         theta[i+1] = theta[i] + np.sqrt(dt*nu)*eta[2]\n",
    "#     MSD[it] = np.sum(r2)/N"
   ],
   "metadata": {
    "collapsed": false,
    "pycharm": {
     "name": "#%%\n"
    }
   }
  },
  {
   "cell_type": "code",
   "execution_count": null,
   "outputs": [],
   "source": [],
   "metadata": {
    "collapsed": false,
    "pycharm": {
     "name": "#%%\n"
    }
   }
  }
 ],
 "metadata": {
  "kernelspec": {
   "name": "python397jvsc74a57bd043c06eff2d3c08a20de97ffeca20f217c90b06a1cbf0c23ce7e21599f8135f8f",
   "language": "python",
   "display_name": "Python 3.9.7 64-bit ('base': conda)"
  },
  "language_info": {
   "codemirror_mode": {
    "name": "ipython",
    "version": 3
   },
   "file_extension": ".py",
   "mimetype": "text/x-python",
   "name": "python",
   "nbconvert_exporter": "python",
   "pygments_lexer": "ipython3",
   "version": "3.9.7"
  }
 },
 "nbformat": 4,
 "nbformat_minor": 4
}