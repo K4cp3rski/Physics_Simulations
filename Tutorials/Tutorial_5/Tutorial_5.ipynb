{
 "cells": [
  {
   "cell_type": "markdown",
   "metadata": {
    "pycharm": {
     "name": "#%% md\n"
    }
   },
   "source": [
    "# Tutorial 5"
   ]
  },
  {
   "cell_type": "code",
   "execution_count": 1,
   "metadata": {
    "collapsed": false,
    "jupyter": {
     "outputs_hidden": false
    },
    "pycharm": {
     "name": "#%%\n"
    }
   },
   "outputs": [],
   "source": [
    "%load_ext autoreload\n",
    "\n",
    "%autoreload 2\n",
    "import matplotlib.pyplot as plt\n",
    "import numpy as np\n",
    "from dump_cells import dump"
   ]
  },
  {
   "cell_type": "markdown",
   "metadata": {
    "tags": []
   },
   "source": [
    "# Lab 31.03.2022\n",
    "## Task 1"
   ]
  },
  {
   "cell_type": "code",
   "execution_count": 9,
   "metadata": {},
   "outputs": [],
   "source": [
    "k_rep = 5E+1\n",
    "k_atr = 1\n",
    "dt = 1E-2\n",
    "alpha = 0.1\n",
    "kd = 1E-1\n",
    "ka = 1E-2\n",
    "L = 25\n",
    "R = np.random.normal(1.0, 1E-1)"
   ]
  },
  {
   "cell_type": "code",
   "execution_count": 2,
   "metadata": {},
   "outputs": [],
   "source": [
    "class CellClass:\n",
    "    x = 0\n",
    "    y = 0\n",
    "    pos = [x, y]\n",
    "    c_id = 0\n",
    "    c_family = 0\n",
    "    kd = 0\n",
    "    ka = 0\n",
    "    R = 0\n",
    "    c_type = \"benign\"\n",
    "    time = 0\n",
    "    F = [0, 0]\n",
    "    close_neighbors_num = 0\n",
    "    dividing = -1\n",
    "    covered = False\n",
    "    global L\n",
    "    global k_rep\n",
    "    global k_atr\n",
    "    global dt\n",
    "    global alpha\n",
    "    def __init__(self, x, y, c_id, c_family, kd, ka, R, c_type=\"benign\", time=0):\n",
    "        self.x = x\n",
    "        self.y = y\n",
    "        self.pos = [x, y]\n",
    "        self.c_id = c_id\n",
    "        self.c_family = c_family\n",
    "        self.kd = kd\n",
    "        self.ka = ka\n",
    "        self.R = R\n",
    "        self.c_type = c_type\n",
    "        self.time = time\n",
    "        \n",
    "    def apply_periodic(self):\n",
    "        x, y = self.pos\n",
    "        if x < 0:\n",
    "            x = -x\n",
    "        elif x > L:\n",
    "            x = L-x \n",
    "        if y < 0:\n",
    "            y = -y\n",
    "        elif y > L:\n",
    "            y = L-y\n",
    "        self.pos = [x, y]\n",
    "            \n",
    "    def closest_image(self,x2):\n",
    "        x12 = np.subtract(x2, self.pos)\n",
    "        if x12[0] > L / 2:\n",
    "            x12[0] = x12[0] - L\n",
    "        elif x12[0] < -L / 2:\n",
    "            x12[0] = x12[0] + L\n",
    "        if x12[1] > L / 2:\n",
    "            x12[1] = x12[1] - L\n",
    "        elif x12[1] < -L / 2:\n",
    "            x12[1] = x12[1] + L\n",
    "        return x12\n",
    "    def calc_dist(self, other):\n",
    "        rij = self.closest_image(other.pos)\n",
    "        rij_val = np.linalg.norm(rij)\n",
    "        rij = rij/rij_val\n",
    "        return rij, rij_val\n",
    "\n",
    "    def cell_divide(self, new_id):\n",
    "        #use the position of the mother plus random to create the daugther\n",
    "        new_pos = self.pos + (1e-1)*np.random.rand(2)\n",
    "        #select a new radius with a normal distribution for both daugther and mother\n",
    "        new_radii = np.random.normal(1.0, 1e-1)\n",
    "        self.R = np.random.normal(1.0, 1e-1)\n",
    "        # create a new cell\n",
    "        new_cell = CellClass(x=new_pos[0],\n",
    "                             y=new_pos[1],\n",
    "                             c_id=new_id,\n",
    "                             kd=self.kd,\n",
    "                             ka=self.ka,\n",
    "                             R=new_radii,\n",
    "                             c_type=self.c_type,\n",
    "                             c_family=self.c_id)\n",
    "        #apply periodic boundaries to the new daughter in case that the cell is at the edge\n",
    "        new_cell.apply_periodic()\n",
    "\n",
    "        #reset the time in each cell\n",
    "        new_cell.time = 0.0\n",
    "        self.time = 0.0\n",
    "        # Update dividing status\n",
    "        self.dividing = 1\n",
    "        new_cell.dividing = 1\n",
    "        #link the two cells, you will need to implement something like that\n",
    "        # to know what force calculate\n",
    "        self.c_family = new_cell.c_id\n",
    "        #return the new cell\n",
    "        return new_cell\n",
    "\n",
    "    def checkDivided(self, cell_b):\n",
    "        if self.c_family != cell_b.c_id:\n",
    "            return\n",
    "        else:\n",
    "            trigerring_distance = self.R + cell_b.R\n",
    "            dire_w, dire_len = self.calc_dist(cell_b)\n",
    "            if trigerring_distance*0.98<=dire_len:\n",
    "                self.dividing = -1\n",
    "                cell_b.dividing = -1\n",
    "\n",
    "    def isDivided(self, part_list):\n",
    "        for part in part_list:\n",
    "            self.checkDivided(part)\n",
    "\n",
    "    def isNeighbor(self, cell_b):\n",
    "        if self != cell_b and cell_b.dividing != 1:\n",
    "            trigerring_distance = self.R + cell_b.R\n",
    "            dire_w, dire_len = self.calc_dist(cell_b)\n",
    "            if trigerring_distance*1.1>=dire_len:\n",
    "                return 1\n",
    "            else:\n",
    "                return 0\n",
    "        else:\n",
    "            return 0\n",
    "\n",
    "    def get_close_neighbors_num(self, part_list):\n",
    "        self.close_neighbors_num = np.sum([self.isNeighbor(part) for part in part_list])\n",
    "\n",
    "    def get_single_force(self,cell_b):\n",
    "        # Implement here the system of calculating forces between daughter and child\n",
    "        if self.c_family != cell_b.c_id or self.c_family == -1:\n",
    "            mult = 1\n",
    "        else:\n",
    "            mult = 0.5\n",
    "        if self != cell_b:\n",
    "            trigerring_distance = self.R + cell_b.R\n",
    "            dire_w, dire_len = self.calc_dist(cell_b)\n",
    "            if trigerring_distance*1.1>=dire_len:\n",
    "                if trigerring_distance>=dire_len:\n",
    "                    return -mult*k_rep*(trigerring_distance-dire_len)*dire_w\n",
    "                else:\n",
    "                    return k_atr*dire_w\n",
    "        return np.array([0,0])\n",
    "    def isCovered(self, part_list):\n",
    "        for cell_b in part_list:\n",
    "            if self != cell_b and cell_b.dividing != 1:\n",
    "                trigerring_distance = self.R + cell_b.R\n",
    "                dire_w, dire_len = self.calc_dist(cell_b)\n",
    "                if trigerring_distance*0.98>dire_len:\n",
    "                    self.covered = True\n",
    "                    return\n",
    "                else:\n",
    "                    self.covered = False\n",
    "\n",
    "\n",
    "    def get_forces(self, part_list):\n",
    "        self.F = [self.get_single_force(part) for part in part_list]\n",
    "        self.F = np.sum(self.F, axis=0)\n",
    "    \n",
    "    def update(self, part_list):\n",
    "        self.time += dt\n",
    "        eta = np.random.normal(0,1, 2)\n",
    "        self.isCovered(part_list)\n",
    "        self.F = [0, 0]\n",
    "        self.get_forces(part_list)\n",
    "        self.pos = self.pos + self.F * dt + np.sqrt(alpha*dt)*eta\n",
    "        self.apply_periodic()\n",
    "        self.isDivided(part_list)"
   ]
  },
  {
   "cell_type": "code",
   "execution_count": null,
   "metadata": {},
   "outputs": [],
   "source": [
    "c = CellClass(0, 0, c_id=1, c_family=-1, kd=kd, ka=ka, R=0.3)\n",
    "d = CellClass(1, 1, c_id=2, c_family=-1, kd=kd, ka=ka, R=0.3)\n",
    "e = CellClass(1.002, 1, c_id=3, c_family=-1, kd=kd, ka=ka, R=0.3)\n",
    "f = CellClass(1.5, 1, c_id=4, c_family=-1, kd=kd, ka=ka, R=0.3)\n",
    "part_list = [c,d,e,f]"
   ]
  },
  {
   "cell_type": "code",
   "execution_count": null,
   "metadata": {},
   "outputs": [],
   "source": [
    "d.get_close_neighbors_num(part_list)"
   ]
  },
  {
   "cell_type": "code",
   "execution_count": null,
   "outputs": [],
   "source": [
    "d.close_neighbors_num"
   ],
   "metadata": {
    "collapsed": false,
    "pycharm": {
     "name": "#%%\n"
    }
   }
  },
  {
   "cell_type": "code",
   "execution_count": null,
   "outputs": [],
   "source": [
    "g = d.cell_divide(5)"
   ],
   "metadata": {
    "collapsed": false,
    "pycharm": {
     "name": "#%%\n"
    }
   }
  },
  {
   "cell_type": "code",
   "execution_count": null,
   "outputs": [],
   "source": [
    "d.c_family"
   ],
   "metadata": {
    "collapsed": false,
    "pycharm": {
     "name": "#%%\n"
    }
   }
  },
  {
   "cell_type": "code",
   "execution_count": null,
   "metadata": {},
   "outputs": [],
   "source": [
    "c.get_forces(part_list)\n",
    "print(c.F)"
   ]
  },
  {
   "cell_type": "code",
   "execution_count": null,
   "metadata": {},
   "outputs": [],
   "source": [
    "print(c.pos, c.F)\n",
    "c.update(part_list)\n",
    "print(c.pos, c.F)"
   ]
  },
  {
   "cell_type": "code",
   "execution_count": 10,
   "metadata": {
    "collapsed": false,
    "jupyter": {
     "outputs_hidden": false
    },
    "pycharm": {
     "name": "#%%\n"
    }
   },
   "outputs": [
    {
     "name": "stderr",
     "output_type": "stream",
     "text": [
      "/var/folders/4f/nc8733x97cnbfw1jfx_t9mfm0000gn/T/ipykernel_41694/2277039366.py:59: RuntimeWarning: invalid value encountered in true_divide\n",
      "  rij = rij/rij_val\n"
     ]
    },
    {
     "name": "stdout",
     "output_type": "stream",
     "text": [
      "CPU times: user 21.4 s, sys: 3.25 s, total: 24.6 s\n",
      "Wall time: 10 s\n"
     ]
    }
   ],
   "source": [
    "%%time\n",
    "\n",
    "Nsnaps = 100 # Number of Pictures\n",
    "Nrun = 100 # Run Steps until a picture is taken 100-1000\n",
    "Cell_Processes_Check = 30  # how often we check if the cell can\n",
    "# divide or died. Note we don’t have to check each time step.\n",
    "# The rates k_d and k_a then change to k_a(t) = cell.time*k_a.\n",
    "# Same for k_d(t) = cell.time*k_d.\n",
    "# Here cell.time is the time that a given cell has been alive\n",
    "# Each process is trigger at random so if ran() < k_a(t) then the cell died, same for k_d\n",
    "\n",
    "cell_num = []\n",
    "t_tab = []\n",
    "\n",
    "# c = CellClass(1.1, 2.1, c_id=-1, c_family=-1, kd=kd, ka=ka, R=0.3)\n",
    "# d = CellClass(1, 1.2, c_id=-1, c_family=-1, kd=kd, ka=ka, R=0.3)\n",
    "# e = CellClass(3, 1.3, c_id=-1, c_family=-1, kd=kd, ka=ka, R=0.3)\n",
    "# f = CellClass(1.5, 1.12, c_id=-1, c_family=-1, kd=kd, ka=ka, R=0.3)\n",
    "# part_list = [c,d,e,f]\n",
    "\n",
    "adam = CellClass(10.01, 10.01, c_id=1, c_family=-1, kd=kd, ka=ka, R=0.8)\n",
    "part_list = [adam]\n",
    "\n",
    "for snap in range(Nsnaps):\n",
    "    force = [part.F for part in part_list]\n",
    "    R = [part.R for part in part_list]\n",
    "    r = [part.pos for part in part_list]\n",
    "    dump('t={}'.format(snap), r, R, force, L, plot_forces=False)\n",
    "    for run in range(1, Nrun+1):\n",
    "        for part in part_list:\n",
    "            part.update(part_list)\n",
    "\n",
    "        if (snap*Nrun+run) % Cell_Processes_Check == 0:\n",
    "            #Check for cell division\n",
    "            new_id = len(part_list)+1\n",
    "            for part in part_list:\n",
    "                if part.kd < np.random.rand() and part.dividing != 1 and part.covered == False:\n",
    "                    new_cell = part.cell_divide(new_id)\n",
    "                    new_id += 1\n",
    "                    part.get_close_neighbors_num(part_list)\n",
    "                    part.kd = part.kd*(1.0-part.close_neighbors_num/6)\n",
    "                    # part.kd = part.time * part.kd\n",
    "                    part_list.append(new_cell)\n",
    "        if (snap*Nrun+run) % Cell_Processes_Check == 5 and len(part_list) != 1:\n",
    "            #Check for cell dead\n",
    "            for part in part_list:\n",
    "                if part.ka < np.random.rand() and part.dividing != 1:\n",
    "                    part_list.remove(part)\n",
    "                    part.ka = part.time * part.ka\n",
    "        cell_num.append(len(part_list))\n",
    "        t_tab.append((snap*Nrun+run)*dt)"
   ]
  },
  {
   "cell_type": "code",
   "execution_count": 11,
   "metadata": {},
   "outputs": [
    {
     "data": {
      "text/plain": "[<matplotlib.lines.Line2D at 0x137e9f8e0>]"
     },
     "execution_count": 11,
     "metadata": {},
     "output_type": "execute_result"
    },
    {
     "data": {
      "text/plain": "<Figure size 432x288 with 1 Axes>",
      "image/png": "[encoded data removed]"
     },
     "metadata": {
      "needs_background": "light"
     },
     "output_type": "display_data"
    }
   ],
   "source": [
    "plt.plot(t_tab, cell_num)"
   ]
  },
  {
   "cell_type": "markdown",
   "source": [
    "## Cell death at the same time as division"
   ],
   "metadata": {
    "collapsed": false,
    "pycharm": {
     "name": "#%% md\n"
    }
   }
  },
  {
   "cell_type": "code",
   "execution_count": 12,
   "outputs": [],
   "source": [
    "k_rep = 5E+1\n",
    "k_atr = 1\n",
    "dt = 1E-2\n",
    "alpha = 0.1\n",
    "kd = 1E-1\n",
    "ka = 1E-3\n",
    "L = 25\n",
    "R = np.random.normal(1.0, 1E-1)\n",
    "Nsnaps = 25 # Number of Pictures\n",
    "Nrun = 200 # Run Steps until a picture is taken 100-1000\n",
    "Cell_Processes_Check = 20  # how often we check if the cell can\n",
    "# divide or died. Note we don’t have to check each time step.\n",
    "# The rates k_d and k_a then change to k_a(t) = cell.time*k_a.\n",
    "# Same for k_d(t) = cell.time*k_d.\n",
    "# Here cell.time is the time that a given cell has been alive\n",
    "# Each process is trigger at random so if ran() < k_a(t) then the cell died, same for k_d"
   ],
   "metadata": {
    "collapsed": false,
    "pycharm": {
     "name": "#%%\n"
    }
   }
  },
  {
   "cell_type": "code",
   "execution_count": 13,
   "outputs": [
    {
     "name": "stderr",
     "output_type": "stream",
     "text": [
      "/var/folders/4f/nc8733x97cnbfw1jfx_t9mfm0000gn/T/ipykernel_41694/2277039366.py:59: RuntimeWarning: invalid value encountered in true_divide\n",
      "  rij = rij/rij_val\n"
     ]
    },
    {
     "name": "stdout",
     "output_type": "stream",
     "text": [
      "CPU times: user 12min 15s, sys: 3.02 s, total: 12min 18s\n",
      "Wall time: 12min 8s\n"
     ]
    }
   ],
   "source": [
    "%%time\n",
    "cell_num_sim = []\n",
    "t_tab_sim = []\n",
    "\n",
    "adam = CellClass(10.01, 10.01, c_id=1, c_family=-1, kd=kd, ka=ka, R=0.8)\n",
    "part_list = [adam]\n",
    "\n",
    "for snap in range(Nsnaps):\n",
    "    force = [part.F for part in part_list]\n",
    "    R = [part.R for part in part_list]\n",
    "    r = [part.pos for part in part_list]\n",
    "    dump('t={}'.format(snap), r, R, force, L, plot_forces=False)\n",
    "    for run in range(1, Nrun+1):\n",
    "        for part in part_list:\n",
    "            part.update(part_list)\n",
    "\n",
    "        if (snap*Nrun+run) % Cell_Processes_Check == 0:\n",
    "            #Check for cell division\n",
    "            new_id = len(part_list)+1\n",
    "            for part in part_list:\n",
    "                if part.kd < np.random.rand() and part.dividing != 1 and part.covered == False:\n",
    "                    new_cell = part.cell_divide(new_id)\n",
    "                    new_id += 1\n",
    "                    part.get_close_neighbors_num(part_list)\n",
    "                    part.kd = part.kd*(1.0-part.close_neighbors_num/6)\n",
    "                    # part.kd = part.time * part.kd\n",
    "                    part_list.append(new_cell)\n",
    "            #Check for cell dead\n",
    "            for part in part_list:\n",
    "                if part.ka < np.random.rand() and part.dividing != 1:\n",
    "                    part_list.remove(part)\n",
    "                    part.ka = part.time * part.ka\n",
    "        cell_num_sim.append(len(part_list))\n",
    "        t_tab_sim.append((snap*Nrun+run)*dt)"
   ],
   "metadata": {
    "collapsed": false,
    "pycharm": {
     "name": "#%%\n"
    }
   }
  },
  {
   "cell_type": "code",
   "execution_count": 14,
   "outputs": [
    {
     "data": {
      "text/plain": "[<matplotlib.lines.Line2D at 0x133a1f310>]"
     },
     "execution_count": 14,
     "metadata": {},
     "output_type": "execute_result"
    },
    {
     "data": {
      "text/plain": "<Figure size 432x288 with 1 Axes>",
      "image/png": "[encoded data removed]"
     },
     "metadata": {
      "needs_background": "light"
     },
     "output_type": "display_data"
    }
   ],
   "source": [
    "plt.plot(t_tab_sim, cell_num_sim)"
   ],
   "metadata": {
    "collapsed": false,
    "pycharm": {
     "name": "#%%\n"
    }
   }
  },
  {
   "cell_type": "markdown",
   "source": [
    "Increased $k_d$"
   ],
   "metadata": {
    "collapsed": false,
    "pycharm": {
     "name": "#%% md\n"
    }
   }
  },
  {
   "cell_type": "code",
   "execution_count": 15,
   "outputs": [],
   "source": [
    "ka = 1E-2"
   ],
   "metadata": {
    "collapsed": false,
    "pycharm": {
     "name": "#%%\n"
    }
   }
  },
  {
   "cell_type": "code",
   "execution_count": 32,
   "outputs": [
    {
     "name": "stderr",
     "output_type": "stream",
     "text": [
      "/var/folders/4f/nc8733x97cnbfw1jfx_t9mfm0000gn/T/ipykernel_41694/2277039366.py:59: RuntimeWarning: invalid value encountered in true_divide\n",
      "  rij = rij/rij_val\n"
     ]
    },
    {
     "name": "stdout",
     "output_type": "stream",
     "text": [
      "CPU times: user 13min 24s, sys: 3.31 s, total: 13min 27s\n",
      "Wall time: 13min 22s\n"
     ]
    }
   ],
   "source": [
    "%%time\n",
    "\n",
    "cell_num_sim_2 = []\n",
    "t_tab_sim_2 = []\n",
    "\n",
    "adam = CellClass(10.01, 10.01, c_id=1, c_family=-1, kd=kd, ka=ka, R=0.8)\n",
    "part_list = [adam]\n",
    "\n",
    "for snap in range(Nsnaps):\n",
    "    force = [part.F for part in part_list]\n",
    "    R = [part.R for part in part_list]\n",
    "    r = [part.pos for part in part_list]\n",
    "    dump('t={}'.format(snap), r, R, force, L, plot_forces=False)\n",
    "    for run in range(1, Nrun+1):\n",
    "        for part in part_list:\n",
    "            part.update(part_list)\n",
    "\n",
    "        if (snap*Nrun+run) % Cell_Processes_Check == 0:\n",
    "            #Check for cell division\n",
    "            new_id = len(part_list)+1\n",
    "            for part in part_list:\n",
    "                if part.kd < np.random.rand() and part.dividing != 1 and part.covered == False:\n",
    "                    new_cell = part.cell_divide(new_id)\n",
    "                    new_id += 1\n",
    "                    part.get_close_neighbors_num(part_list)\n",
    "                    part.kd = part.kd*(1.0-part.close_neighbors_num/6)\n",
    "                    # part.kd = part.time * part.kd\n",
    "                    part_list.append(new_cell)\n",
    "            #Check for cell dead\n",
    "            for part in part_list:\n",
    "                if part.ka < np.random.rand() and part.dividing != 1:\n",
    "                    part_list.remove(part)\n",
    "                    part.ka = part.time * part.ka\n",
    "        cell_num_sim_2.append(len(part_list))\n",
    "        t_tab_sim_2.append((snap*Nrun+run)*dt)"
   ],
   "metadata": {
    "collapsed": false,
    "pycharm": {
     "name": "#%%\n"
    }
   }
  },
  {
   "cell_type": "code",
   "execution_count": 33,
   "outputs": [
    {
     "data": {
      "text/plain": "[<matplotlib.lines.Line2D at 0x145f44340>]"
     },
     "execution_count": 33,
     "metadata": {},
     "output_type": "execute_result"
    },
    {
     "data": {
      "text/plain": "<Figure size 432x288 with 1 Axes>",
      "image/png": "[encoded data removed]"
     },
     "metadata": {
      "needs_background": "light"
     },
     "output_type": "display_data"
    }
   ],
   "source": [
    "plt.plot(t_tab_sim_2, cell_num_sim_2)"
   ],
   "metadata": {
    "collapsed": false,
    "pycharm": {
     "name": "#%%\n"
    }
   }
  },
  {
   "cell_type": "markdown",
   "source": [
    "Increased $k_d$"
   ],
   "metadata": {
    "collapsed": false,
    "pycharm": {
     "name": "#%% md\n"
    }
   }
  },
  {
   "cell_type": "code",
   "execution_count": 34,
   "outputs": [],
   "source": [
    "ka = 1E-1"
   ],
   "metadata": {
    "collapsed": false,
    "pycharm": {
     "name": "#%%\n"
    }
   }
  },
  {
   "cell_type": "code",
   "execution_count": 35,
   "outputs": [
    {
     "name": "stderr",
     "output_type": "stream",
     "text": [
      "/var/folders/4f/nc8733x97cnbfw1jfx_t9mfm0000gn/T/ipykernel_41694/2277039366.py:59: RuntimeWarning: invalid value encountered in true_divide\n",
      "  rij = rij/rij_val\n"
     ]
    },
    {
     "name": "stdout",
     "output_type": "stream",
     "text": [
      "CPU times: user 13min 12s, sys: 3.81 s, total: 13min 16s\n",
      "Wall time: 13min 9s\n"
     ]
    }
   ],
   "source": [
    "%%time\n",
    "\n",
    "cell_num_sim_3 = []\n",
    "t_tab_sim_3 = []\n",
    "\n",
    "\n",
    "adam = CellClass(10.01, 10.01, c_id=1, c_family=-1, kd=kd, ka=ka, R=0.8)\n",
    "part_list = [adam]\n",
    "\n",
    "for snap in range(Nsnaps):\n",
    "    force = [part.F for part in part_list]\n",
    "    R = [part.R for part in part_list]\n",
    "    r = [part.pos for part in part_list]\n",
    "    dump('t={}'.format(snap), r, R, force, L, plot_forces=False)\n",
    "    for run in range(1, Nrun+1):\n",
    "        for part in part_list:\n",
    "            part.update(part_list)\n",
    "\n",
    "        if (snap*Nrun+run) % Cell_Processes_Check == 0:\n",
    "            #Check for cell division\n",
    "            new_id = len(part_list)+1\n",
    "            for part in part_list:\n",
    "                if part.kd < np.random.rand() and part.dividing != 1 and part.covered == False:\n",
    "                    new_cell = part.cell_divide(new_id)\n",
    "                    new_id += 1\n",
    "                    part.get_close_neighbors_num(part_list)\n",
    "                    part.kd = part.kd*(1.0-part.close_neighbors_num/6)\n",
    "                    # part.kd = part.time * part.kd\n",
    "                    part_list.append(new_cell)\n",
    "            #Check for cell dead\n",
    "            for part in part_list:\n",
    "                if part.ka < np.random.rand() and part.dividing != 1:\n",
    "                    part_list.remove(part)\n",
    "                    part.ka = part.time * part.ka\n",
    "        cell_num_sim_3.append(len(part_list))\n",
    "        t_tab_sim_3.append((snap*Nrun+run)*dt)"
   ],
   "metadata": {
    "collapsed": false,
    "pycharm": {
     "name": "#%%\n"
    }
   }
  },
  {
   "cell_type": "code",
   "execution_count": 36,
   "outputs": [
    {
     "data": {
      "text/plain": "[<matplotlib.lines.Line2D at 0x132f72730>]"
     },
     "execution_count": 36,
     "metadata": {},
     "output_type": "execute_result"
    },
    {
     "data": {
      "text/plain": "<Figure size 432x288 with 1 Axes>",
      "image/png": "[encoded data removed]"
     },
     "metadata": {
      "needs_background": "light"
     },
     "output_type": "display_data"
    }
   ],
   "source": [
    "plt.plot(t_tab_sim_3, cell_num_sim_3)"
   ],
   "metadata": {
    "collapsed": false,
    "pycharm": {
     "name": "#%%\n"
    }
   }
  },
  {
   "cell_type": "markdown",
   "source": [
    "Summary"
   ],
   "metadata": {
    "collapsed": false,
    "pycharm": {
     "name": "#%% md\n"
    }
   }
  },
  {
   "cell_type": "markdown",
   "source": [
    "Summary"
   ],
   "metadata": {
    "collapsed": false,
    "pycharm": {
     "name": "#%% md\n"
    }
   }
  },
  {
   "cell_type": "code",
   "execution_count": 37,
   "outputs": [
    {
     "data": {
      "text/plain": "<matplotlib.legend.Legend at 0x145f7c310>"
     },
     "execution_count": 37,
     "metadata": {},
     "output_type": "execute_result"
    },
    {
     "data": {
      "text/plain": "<Figure size 432x288 with 1 Axes>",
      "image/png": "[encoded data removed]"
     },
     "metadata": {
      "needs_background": "light"
     },
     "output_type": "display_data"
    }
   ],
   "source": [
    "# with plt.xkcd():\n",
    "plt.plot(t_tab_sim_3, cell_num_sim_3, label=\"k_d = 10E-1\")\n",
    "plt.plot(t_tab_sim_2, cell_num_sim_2, label=\"k_d = 10E-2\")\n",
    "plt.plot(t_tab_sim, cell_num_sim, label=\"k_d = 10E-3\")\n",
    "plt.ylabel(\"# of cells\")\n",
    "plt.xlabel(\"time [s]\")\n",
    "plt.legend()"
   ],
   "metadata": {
    "collapsed": false,
    "pycharm": {
     "name": "#%%\n"
    }
   }
  },
  {
   "cell_type": "markdown",
   "source": [
    "# Now once again, with different condition for reproduction"
   ],
   "metadata": {
    "collapsed": false,
    "pycharm": {
     "name": "#%% md\n"
    }
   }
  },
  {
   "cell_type": "code",
   "execution_count": 38,
   "outputs": [],
   "source": [
    "k_rep = 5E+1\n",
    "k_atr = 1\n",
    "dt = 1E-2\n",
    "alpha = 0.1\n",
    "kd = 1E-1\n",
    "ka = 1E-3\n",
    "L = 25\n",
    "R = np.random.normal(1.0, 1E-1)\n",
    "Nsnaps = 25 # Number of Pictures\n",
    "Nrun = 200 # Run Steps until a picture is taken 100-1000\n",
    "Cell_Processes_Check = 20  # how often we check if the cell can\n",
    "# divide or died. Note we don’t have to check each time step.\n",
    "# The rates k_d and k_a then change to k_a(t) = cell.time*k_a.\n",
    "# Same for k_d(t) = cell.time*k_d.\n",
    "# Here cell.time is the time that a given cell has been alive\n",
    "# Each process is trigger at random so if ran() < k_a(t) then the cell died, same for k_d"
   ],
   "metadata": {
    "collapsed": false,
    "pycharm": {
     "name": "#%%\n"
    }
   }
  },
  {
   "cell_type": "code",
   "execution_count": 39,
   "outputs": [
    {
     "name": "stderr",
     "output_type": "stream",
     "text": [
      "/var/folders/4f/nc8733x97cnbfw1jfx_t9mfm0000gn/T/ipykernel_41694/2277039366.py:59: RuntimeWarning: invalid value encountered in true_divide\n",
      "  rij = rij/rij_val\n"
     ]
    },
    {
     "name": "stdout",
     "output_type": "stream",
     "text": [
      "CPU times: user 12min 38s, sys: 6.05 s, total: 12min 44s\n",
      "Wall time: 13min 46s\n"
     ]
    }
   ],
   "source": [
    "%%time\n",
    "\n",
    "cell_num_sim_alt = []\n",
    "t_tab_sim_alt = []\n",
    "\n",
    "adam = CellClass(10.01, 10.01, c_id=1, c_family=-1, kd=kd, ka=ka, R=0.8)\n",
    "part_list = [adam]\n",
    "\n",
    "for snap in range(Nsnaps):\n",
    "    force = [part.F for part in part_list]\n",
    "    R = [part.R for part in part_list]\n",
    "    r = [part.pos for part in part_list]\n",
    "    dump('t={}'.format(snap), r, R, force, L, plot_forces=False)\n",
    "    for run in range(1, Nrun+1):\n",
    "        for part in part_list:\n",
    "            part.update(part_list)\n",
    "\n",
    "        if (snap*Nrun+run) % Cell_Processes_Check == 0:\n",
    "            #Check for cell division\n",
    "            new_id = len(part_list)+1\n",
    "            for part in part_list:\n",
    "                if part.kd < np.random.rand() and part.dividing != 1 and part.covered == False:\n",
    "                    new_cell = part.cell_divide(new_id)\n",
    "                    new_id += 1\n",
    "                    # part.get_close_neighbors_num(part_list)\n",
    "                    # part.kd = part.kd*(1.0-part.close_neighbors_num/6)\n",
    "                    part.kd = part.time * part.kd\n",
    "                    part_list.append(new_cell)\n",
    "            #Check for cell dead\n",
    "            for part in part_list:\n",
    "                if part.ka < np.random.rand() and part.dividing != 1:\n",
    "                    part_list.remove(part)\n",
    "                    part.ka = part.time * part.ka\n",
    "        cell_num_sim_alt.append(len(part_list))\n",
    "        t_tab_sim_alt.append((snap*Nrun+run)*dt)"
   ],
   "metadata": {
    "collapsed": false,
    "pycharm": {
     "name": "#%%\n"
    }
   }
  },
  {
   "cell_type": "code",
   "execution_count": 40,
   "outputs": [
    {
     "data": {
      "text/plain": "[<matplotlib.lines.Line2D at 0x127859be0>]"
     },
     "execution_count": 40,
     "metadata": {},
     "output_type": "execute_result"
    },
    {
     "data": {
      "text/plain": "<Figure size 432x288 with 1 Axes>",
      "image/png": "[encoded data removed]"
     },
     "metadata": {
      "needs_background": "light"
     },
     "output_type": "display_data"
    }
   ],
   "source": [
    "plt.plot(t_tab_sim_alt, cell_num_sim_alt)"
   ],
   "metadata": {
    "collapsed": false,
    "pycharm": {
     "name": "#%%\n"
    }
   }
  },
  {
   "cell_type": "markdown",
   "source": [
    "Increased $k_d$"
   ],
   "metadata": {
    "collapsed": false
   }
  },
  {
   "cell_type": "code",
   "execution_count": 41,
   "outputs": [],
   "source": [
    "ka = 1E-2"
   ],
   "metadata": {
    "collapsed": false,
    "pycharm": {
     "name": "#%%\n"
    }
   }
  },
  {
   "cell_type": "code",
   "execution_count": 42,
   "outputs": [
    {
     "name": "stderr",
     "output_type": "stream",
     "text": [
      "/var/folders/4f/nc8733x97cnbfw1jfx_t9mfm0000gn/T/ipykernel_41694/2277039366.py:59: RuntimeWarning: invalid value encountered in true_divide\n",
      "  rij = rij/rij_val\n"
     ]
    },
    {
     "name": "stdout",
     "output_type": "stream",
     "text": [
      "CPU times: user 12min 57s, sys: 6.26 s, total: 13min 4s\n",
      "Wall time: 14min 11s\n"
     ]
    }
   ],
   "source": [
    "%%time\n",
    "\n",
    "cell_num_sim_alt_2 = []\n",
    "t_tab_sim_alt_2 = []\n",
    "\n",
    "\n",
    "adam = CellClass(10.01, 10.01, c_id=1, c_family=-1, kd=kd, ka=ka, R=0.8)\n",
    "part_list = [adam]\n",
    "\n",
    "for snap in range(Nsnaps):\n",
    "    force = [part.F for part in part_list]\n",
    "    R = [part.R for part in part_list]\n",
    "    r = [part.pos for part in part_list]\n",
    "    dump('t={}'.format(snap), r, R, force, L, plot_forces=False)\n",
    "    for run in range(1, Nrun+1):\n",
    "        for part in part_list:\n",
    "            part.update(part_list)\n",
    "\n",
    "        if (snap*Nrun+run) % Cell_Processes_Check == 0:\n",
    "            #Check for cell division\n",
    "            new_id = len(part_list)+1\n",
    "            for part in part_list:\n",
    "                if part.kd < np.random.rand() and part.dividing != 1 and part.covered == False:\n",
    "                    new_cell = part.cell_divide(new_id)\n",
    "                    new_id += 1\n",
    "                    # part.get_close_neighbors_num(part_list)\n",
    "                    # part.kd = part.kd*(1.0-part.close_neighbors_num/6)\n",
    "                    part.kd = part.time * part.kd\n",
    "                    part_list.append(new_cell)\n",
    "            #Check for cell dead\n",
    "            for part in part_list:\n",
    "                if part.ka < np.random.rand() and part.dividing != 1:\n",
    "                    part_list.remove(part)\n",
    "                    part.ka = part.time * part.ka\n",
    "        cell_num_sim_alt_2.append(len(part_list))\n",
    "        t_tab_sim_alt_2.append((snap*Nrun+run)*dt)"
   ],
   "metadata": {
    "collapsed": false,
    "pycharm": {
     "name": "#%%\n"
    }
   }
  },
  {
   "cell_type": "code",
   "execution_count": 43,
   "outputs": [
    {
     "data": {
      "text/plain": "[<matplotlib.lines.Line2D at 0x14604a5e0>]"
     },
     "execution_count": 43,
     "metadata": {},
     "output_type": "execute_result"
    },
    {
     "data": {
      "text/plain": "<Figure size 432x288 with 1 Axes>",
      "image/png": "[encoded data removed]"
     },
     "metadata": {
      "needs_background": "light"
     },
     "output_type": "display_data"
    }
   ],
   "source": [
    "plt.plot(t_tab_sim_alt_2, cell_num_sim_alt_2)"
   ],
   "metadata": {
    "collapsed": false,
    "pycharm": {
     "name": "#%%\n"
    }
   }
  },
  {
   "cell_type": "markdown",
   "source": [
    "Increased $k_d$"
   ],
   "metadata": {
    "collapsed": false
   }
  },
  {
   "cell_type": "code",
   "execution_count": 44,
   "outputs": [],
   "source": [
    "ka = 1E-1"
   ],
   "metadata": {
    "collapsed": false,
    "pycharm": {
     "name": "#%%\n"
    }
   }
  },
  {
   "cell_type": "code",
   "execution_count": 45,
   "outputs": [
    {
     "name": "stderr",
     "output_type": "stream",
     "text": [
      "/var/folders/4f/nc8733x97cnbfw1jfx_t9mfm0000gn/T/ipykernel_41694/2277039366.py:59: RuntimeWarning: invalid value encountered in true_divide\n",
      "  rij = rij/rij_val\n"
     ]
    },
    {
     "name": "stdout",
     "output_type": "stream",
     "text": [
      "CPU times: user 13min 12s, sys: 4.06 s, total: 13min 16s\n",
      "Wall time: 13min 14s\n"
     ]
    }
   ],
   "source": [
    "%%time\n",
    "\n",
    "cell_num_sim_alt_3 = []\n",
    "t_tab_sim_alt_3 = []\n",
    "\n",
    "adam = CellClass(10.01, 10.01, c_id=1, c_family=-1, kd=kd, ka=ka, R=0.8)\n",
    "part_list = [adam]\n",
    "\n",
    "for snap in range(Nsnaps):\n",
    "    force = [part.F for part in part_list]\n",
    "    R = [part.R for part in part_list]\n",
    "    r = [part.pos for part in part_list]\n",
    "    dump('t={}'.format(snap), r, R, force, L, plot_forces=False)\n",
    "    for run in range(1, Nrun+1):\n",
    "        for part in part_list:\n",
    "            part.update(part_list)\n",
    "\n",
    "        if (snap*Nrun+run) % Cell_Processes_Check == 0:\n",
    "            #Check for cell division\n",
    "            new_id = len(part_list)+1\n",
    "            for part in part_list:\n",
    "                if part.kd < np.random.rand() and part.dividing != 1 and part.covered == False:\n",
    "                    new_cell = part.cell_divide(new_id)\n",
    "                    new_id += 1\n",
    "                    # part.get_close_neighbors_num(part_list)\n",
    "                    # part.kd = part.kd*(1.0-part.close_neighbors_num/6)\n",
    "                    part.kd = part.time * part.kd\n",
    "                    part_list.append(new_cell)\n",
    "            #Check for cell dead\n",
    "            for part in part_list:\n",
    "                if part.ka < np.random.rand() and part.dividing != 1:\n",
    "                    part_list.remove(part)\n",
    "                    part.ka = part.time * part.ka\n",
    "        cell_num_sim_alt_3.append(len(part_list))\n",
    "        t_tab_sim_alt_3.append((snap*Nrun+run)*dt)"
   ],
   "metadata": {
    "collapsed": false,
    "pycharm": {
     "name": "#%%\n"
    }
   }
  },
  {
   "cell_type": "code",
   "execution_count": 46,
   "outputs": [
    {
     "data": {
      "text/plain": "[<matplotlib.lines.Line2D at 0x133b5e100>]"
     },
     "execution_count": 46,
     "metadata": {},
     "output_type": "execute_result"
    },
    {
     "data": {
      "text/plain": "<Figure size 432x288 with 1 Axes>",
      "image/png": "[encoded data removed]"
     },
     "metadata": {
      "needs_background": "light"
     },
     "output_type": "display_data"
    }
   ],
   "source": [
    "plt.plot(t_tab_sim_alt_3, cell_num_sim_alt_3)"
   ],
   "metadata": {
    "collapsed": false,
    "pycharm": {
     "name": "#%%\n"
    }
   }
  },
  {
   "cell_type": "markdown",
   "source": [
    "Summary"
   ],
   "metadata": {
    "collapsed": false
   }
  },
  {
   "cell_type": "code",
   "execution_count": 60,
   "outputs": [
    {
     "data": {
      "text/plain": "<matplotlib.legend.Legend at 0x137db1460>"
     },
     "execution_count": 60,
     "metadata": {},
     "output_type": "execute_result"
    },
    {
     "data": {
      "text/plain": "<Figure size 432x288 with 1 Axes>",
      "image/png": "[encoded data removed]"
     },
     "metadata": {
      "needs_background": "light"
     },
     "output_type": "display_data"
    }
   ],
   "source": [
    "# with plt.xkcd():\n",
    "plt.plot(t_tab_sim_alt_3, cell_num_sim_alt_3, label=\"$k_d$ = $10^{-1}$\")\n",
    "plt.plot(t_tab_sim_alt_2, cell_num_sim_alt_2, label=\"$k_d$ = $10^{-2}$\")\n",
    "plt.plot(t_tab_sim_alt, cell_num_sim_alt, label=\"$k_d$ = $10^{-3}$\")\n",
    "plt.ylabel(\"# of cells\")\n",
    "plt.xlabel(\"time [s]\")\n",
    "plt.xlim(0, 20)\n",
    "plt.legend()"
   ],
   "metadata": {
    "collapsed": false,
    "pycharm": {
     "name": "#%%\n"
    }
   }
  },
  {
   "cell_type": "code",
   "execution_count": null,
   "outputs": [],
   "source": [],
   "metadata": {
    "collapsed": false,
    "pycharm": {
     "name": "#%%\n"
    }
   }
  }
 ],
 "metadata": {
  "kernelspec": {
   "display_name": "Python 3.9.7 64-bit ('base': conda)",
   "language": "python",
   "name": "python397jvsc74a57bd043c06eff2d3c08a20de97ffeca20f217c90b06a1cbf0c23ce7e21599f8135f8f"
  },
  "language_info": {
   "codemirror_mode": {
    "name": "ipython",
    "version": 3
   },
   "file_extension": ".py",
   "mimetype": "text/x-python",
   "name": "python",
   "nbconvert_exporter": "python",
   "pygments_lexer": "ipython3",
   "version": "3.9.7"
  }
 },
 "nbformat": 4,
 "nbformat_minor": 4
}