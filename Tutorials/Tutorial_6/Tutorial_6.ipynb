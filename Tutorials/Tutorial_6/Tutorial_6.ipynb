{
 "cells": [
  {
   "cell_type": "markdown",
   "metadata": {
    "pycharm": {
     "name": "#%% md\n"
    }
   },
   "source": [
    "# Lab 07.04.2022"
   ]
  },
  {
   "cell_type": "code",
   "execution_count": 1,
   "metadata": {
    "collapsed": false,
    "jupyter": {
     "outputs_hidden": false
    },
    "pycharm": {
     "name": "#%%\n"
    }
   },
   "outputs": [],
   "source": [
    "import matplotlib.pyplot as plt\n",
    "import numpy as np\n",
    "from tqdm import tqdm, notebook"
   ]
  },
  {
   "cell_type": "code",
   "execution_count": 2,
   "metadata": {
    "collapsed": false,
    "jupyter": {
     "outputs_hidden": false
    },
    "pycharm": {
     "name": "#%%\n"
    }
   },
   "outputs": [],
   "source": [
    "def get_vert(pos):\n",
    "    x = np.asarray([np.subtract(pos[i+1], pos[i]) for i in range(pos.shape[0]-1)])\n",
    "    x_norm = [np.sqrt(n[0]**2 + n[1]**2) for n in x]\n",
    "    return x, x_norm"
   ]
  },
  {
   "cell_type": "code",
   "execution_count": 3,
   "metadata": {
    "collapsed": false,
    "jupyter": {
     "outputs_hidden": false
    },
    "pycharm": {
     "name": "#%%\n"
    }
   },
   "outputs": [],
   "source": [
    "def get_angles(vert, l_norm):\n",
    "    x = [(-np.inner(vert[i+1], vert[i])/(l_norm[i+1]*l_norm[i])) for i in range(vert.shape[0]-1)]\n",
    "    return x"
   ]
  },
  {
   "cell_type": "code",
   "execution_count": 70,
   "metadata": {
    "collapsed": false,
    "jupyter": {
     "outputs_hidden": false
    },
    "pycharm": {
     "name": "#%%\n"
    }
   },
   "outputs": [],
   "source": [
    "def get_energy(vert, angles, n):\n",
    "    # en = [(0.5*k*(vert[i-1] - l0)**2 + kb*(1+angles[i]) + 0.5*k*(vert[i-1] - l0)**2) for i in range(0, len(angles))]\n",
    "    en = []\n",
    "    num = len(angles)\n",
    "    for i in range(0, num):\n",
    "        e = (0.5*k*(vert[i] - l0)**2 + kb*(1+angles[i]) + 0.5*k*(vert[i+1] - l0)**2)\n",
    "        en.append(e)\n",
    "    e = (0.5*k*(vert[num] - l0)**2 + kb*(1+angles[num-1]) + 0.5*k*(vert[num] - l0)**2)\n",
    "    en.append(e)\n",
    "    if n == 0:\n",
    "        en = np.sum(en[n:n+2])/4\n",
    "    elif n == len(vert):\n",
    "        en = np.sum(en[n-2:-1])/4\n",
    "    else:\n",
    "        en = np.sum(en[n-1:n+2])/8\n",
    "    return en"
   ]
  },
  {
   "cell_type": "code",
   "execution_count": 5,
   "metadata": {
    "collapsed": false,
    "jupyter": {
     "outputs_hidden": false
    },
    "pycharm": {
     "name": "#%%\n"
    }
   },
   "outputs": [],
   "source": [
    "def calc_delta_en(pos, vert, angles, n):\n",
    "    e_old = get_energy(vert, angles, n)\n",
    "    pos_n = pos.copy()\n",
    "    ds = [np.random.uniform(-s,s),np.random.uniform(-s,s)]\n",
    "    pos_n[n] = pos_n[n] + ds\n",
    "    l_arr, l_norm = get_vert(pos_n)\n",
    "    e_new = get_energy(l_norm, get_angles(l_arr, l_norm), n)\n",
    "    delta_e = (e_new - e_old)\n",
    "    return delta_e, pos_n"
   ]
  },
  {
   "cell_type": "code",
   "execution_count": 6,
   "metadata": {
    "collapsed": false,
    "jupyter": {
     "outputs_hidden": false
    },
    "pycharm": {
     "name": "#%%\n"
    }
   },
   "outputs": [],
   "source": [
    "def monte_carlo_single(pos, vert, angles, n, verb=0):\n",
    "    delta_e, new_pos = calc_delta_en(pos, vert, angles, n)\n",
    "    # proba = np.exp(-delta_e/kbT)\n",
    "    # if min(1, proba) > np.random.random():\n",
    "    if delta_e < 0:\n",
    "        if verb > 0:\n",
    "            print(\"Accepted!\")\n",
    "        pos = new_pos\n",
    "    else:\n",
    "        if verb > 0:\n",
    "            print(\"Rejected!\")\n",
    "    return pos"
   ]
  },
  {
   "cell_type": "code",
   "execution_count": 71,
   "metadata": {
    "collapsed": false,
    "jupyter": {
     "outputs_hidden": false
    },
    "pycharm": {
     "name": "#%%\n"
    }
   },
   "outputs": [],
   "source": [
    "k = 1E+3\n",
    "l0 = 1.0\n",
    "kb = 1E+2\n",
    "N = 5E+1\n",
    "L0 = N*l0\n",
    "kbT = 1E-1\n",
    "s = 0.001\n",
    "strain = 0.01\n",
    "it_num = 5000\n",
    "pos = np.asarray([[l0*num, 0] for num in range(int(N))])\n",
    "pos[0][0] += 0.5*np.abs(strain)*L0\n",
    "pos[-1][0] -= 0.5*np.abs(strain)*L0\n",
    "pos_ini = pos\n",
    "l_arr, l_norm = get_vert(pos)\n",
    "angle = get_angles(l_arr, l_norm)\n",
    "energies = [get_energy(l_norm, angle, n) for n in range(int(N))]"
   ]
  },
  {
   "cell_type": "code",
   "execution_count": 8,
   "metadata": {
    "collapsed": false,
    "jupyter": {
     "outputs_hidden": false
    },
    "pycharm": {
     "name": "#%%\n"
    }
   },
   "outputs": [
    {
     "name": "stdout",
     "output_type": "stream",
     "text": [
      "Initial Energy: 0.078125\n"
     ]
    },
    {
     "name": "stderr",
     "output_type": "stream",
     "text": [
      "Loading...: 100%|█████████████████████████████| 5000/5000 [01:14<00:00, 67.02it/s]"
     ]
    },
    {
     "name": "stdout",
     "output_type": "stream",
     "text": [
      "New Energy: 0.07440836033223776\n",
      "CPU times: user 1min 13s, sys: 2.52 s, total: 1min 15s\n",
      "Wall time: 1min 14s\n"
     ]
    },
    {
     "name": "stderr",
     "output_type": "stream",
     "text": [
      "\n"
     ]
    }
   ],
   "source": [
    "%%time\n",
    "print(\"Initial Energy: {}\".format(np.sum([get_energy(l_norm, angle, n) for n in range(int(N)-1)])/(3*N)))\n",
    "\n",
    "for it in notebook.tqdm (range (it_num), desc=\"Loading...\"):\n",
    "    for n in range(1, len(pos)-1):\n",
    "        pos = monte_carlo_single(pos, l_norm, angle, n, verb=0)\n",
    "\n",
    "l_arr, l_norm = get_vert(pos)\n",
    "angle = get_angles(l_arr, l_norm)\n",
    "print(\"New Energy: {}\".format(np.sum([get_energy(l_norm, angle, n) for n in range(int(N)-1)])/(3*N)))"
   ]
  },
  {
   "cell_type": "code",
   "execution_count": 8,
   "metadata": {
    "collapsed": false,
    "jupyter": {
     "outputs_hidden": false
    },
    "pycharm": {
     "name": "#%%\n"
    }
   },
   "outputs": [
    {
     "data": {
      "text/plain": "<matplotlib.legend.Legend at 0x10e71ed00>"
     },
     "execution_count": 8,
     "metadata": {},
     "output_type": "execute_result"
    },
    {
     "data": {
      "text/plain": "<Figure size 432x288 with 1 Axes>",
      "image/png": "[encoded data removed]"
     },
     "metadata": {
      "needs_background": "light"
     },
     "output_type": "display_data"
    }
   ],
   "source": [
    "plt.plot(pos[:, 0], pos[:, 1], marker=\".\", ls=\"\")\n",
    "plt.plot(pos[:, 0], pos[:, 1], ls=\"-.\", label=\"Propagated\")\n",
    "\n",
    "plt.plot(pos_ini[:, 0], pos_ini[:, 1], marker=\".\", ls=\"\")\n",
    "plt.plot(pos_ini[:, 0], pos_ini[:, 1], ls=\"-.\", label=\"Initial\")\n",
    "\n",
    "plt.legend()"
   ]
  },
  {
   "cell_type": "code",
   "execution_count": 9,
   "metadata": {
    "collapsed": true,
    "jupyter": {
     "outputs_hidden": true
    },
    "pycharm": {
     "name": "#%%\n"
    },
    "tags": []
   },
   "outputs": [
    {
     "data": {
      "text/plain": "[0.0,\n 0.0,\n 0.0,\n 0.0,\n 0.0,\n 0.0,\n 0.0,\n 0.0,\n 0.0,\n 0.0,\n 0.0,\n 0.0,\n 0.0,\n 0.0,\n 0.0,\n 0.0,\n 0.0,\n 0.0,\n 0.0,\n 0.0,\n 0.0,\n 0.0,\n 0.0,\n 0.0,\n 0.0,\n 0.0,\n 0.0,\n 0.0,\n 0.0,\n 0.0,\n 0.0,\n 0.0,\n 0.0,\n 0.0,\n 0.0,\n 0.0,\n 0.0,\n 0.0,\n 0.0,\n 0.0,\n 0.0,\n 0.0,\n 0.0,\n 0.0,\n 0.0,\n 0.0,\n 0.0,\n 0.0,\n 0.0,\n 0.0]"
     },
     "execution_count": 9,
     "metadata": {},
     "output_type": "execute_result"
    }
   ],
   "source": [
    "energies"
   ]
  },
  {
   "cell_type": "code",
   "execution_count": 10,
   "metadata": {
    "collapsed": true,
    "jupyter": {
     "outputs_hidden": true
    },
    "pycharm": {
     "name": "#%%\n"
    },
    "tags": []
   },
   "outputs": [
    {
     "data": {
      "text/plain": "[-1.0,\n -1.0,\n -1.0,\n -1.0,\n -1.0,\n -1.0,\n -1.0,\n -1.0,\n -1.0,\n -1.0,\n -1.0,\n -1.0,\n -1.0,\n -1.0,\n -1.0,\n -1.0,\n -1.0,\n -1.0,\n -1.0,\n -1.0,\n -1.0,\n -1.0,\n -1.0,\n -1.0,\n -1.0,\n -1.0,\n -1.0,\n -1.0,\n -1.0,\n -1.0,\n -1.0,\n -1.0,\n -1.0,\n -1.0,\n -1.0,\n -1.0,\n -1.0,\n -1.0,\n -1.0,\n -1.0,\n -1.0,\n -1.0,\n -1.0,\n -1.0,\n -1.0,\n -1.0,\n -1.0,\n -1.0]"
     },
     "execution_count": 10,
     "metadata": {},
     "output_type": "execute_result"
    }
   ],
   "source": [
    "angle"
   ]
  },
  {
   "cell_type": "code",
   "execution_count": 11,
   "metadata": {
    "collapsed": true,
    "jupyter": {
     "outputs_hidden": true
    },
    "pycharm": {
     "name": "#%%\n"
    },
    "tags": []
   },
   "outputs": [
    {
     "data": {
      "text/plain": "array([[ 0.25,  0.  ],\n       [ 1.  ,  0.  ],\n       [ 2.  ,  0.  ],\n       [ 3.  ,  0.  ],\n       [ 4.  ,  0.  ],\n       [ 5.  ,  0.  ],\n       [ 6.  ,  0.  ],\n       [ 7.  ,  0.  ],\n       [ 8.  ,  0.  ],\n       [ 9.  ,  0.  ],\n       [10.  ,  0.  ],\n       [11.  ,  0.  ],\n       [12.  ,  0.  ],\n       [13.  ,  0.  ],\n       [14.  ,  0.  ],\n       [15.  ,  0.  ],\n       [16.  ,  0.  ],\n       [17.  ,  0.  ],\n       [18.  ,  0.  ],\n       [19.  ,  0.  ],\n       [20.  ,  0.  ],\n       [21.  ,  0.  ],\n       [22.  ,  0.  ],\n       [23.  ,  0.  ],\n       [24.  ,  0.  ],\n       [25.  ,  0.  ],\n       [26.  ,  0.  ],\n       [27.  ,  0.  ],\n       [28.  ,  0.  ],\n       [29.  ,  0.  ],\n       [30.  ,  0.  ],\n       [31.  ,  0.  ],\n       [32.  ,  0.  ],\n       [33.  ,  0.  ],\n       [34.  ,  0.  ],\n       [35.  ,  0.  ],\n       [36.  ,  0.  ],\n       [37.  ,  0.  ],\n       [38.  ,  0.  ],\n       [39.  ,  0.  ],\n       [40.  ,  0.  ],\n       [41.  ,  0.  ],\n       [42.  ,  0.  ],\n       [43.  ,  0.  ],\n       [44.  ,  0.  ],\n       [45.  ,  0.  ],\n       [46.  ,  0.  ],\n       [47.  ,  0.  ],\n       [48.  ,  0.  ],\n       [48.75,  0.  ]])"
     },
     "execution_count": 11,
     "metadata": {},
     "output_type": "execute_result"
    }
   ],
   "source": [
    "pos"
   ]
  },
  {
   "cell_type": "code",
   "execution_count": 12,
   "metadata": {
    "collapsed": true,
    "jupyter": {
     "outputs_hidden": true
    },
    "pycharm": {
     "name": "#%%\n"
    },
    "tags": []
   },
   "outputs": [
    {
     "data": {
      "text/plain": "array([[0.75, 0.  ],\n       [1.  , 0.  ],\n       [1.  , 0.  ],\n       [1.  , 0.  ],\n       [1.  , 0.  ],\n       [1.  , 0.  ],\n       [1.  , 0.  ],\n       [1.  , 0.  ],\n       [1.  , 0.  ],\n       [1.  , 0.  ],\n       [1.  , 0.  ],\n       [1.  , 0.  ],\n       [1.  , 0.  ],\n       [1.  , 0.  ],\n       [1.  , 0.  ],\n       [1.  , 0.  ],\n       [1.  , 0.  ],\n       [1.  , 0.  ],\n       [1.  , 0.  ],\n       [1.  , 0.  ],\n       [1.  , 0.  ],\n       [1.  , 0.  ],\n       [1.  , 0.  ],\n       [1.  , 0.  ],\n       [1.  , 0.  ],\n       [1.  , 0.  ],\n       [1.  , 0.  ],\n       [1.  , 0.  ],\n       [1.  , 0.  ],\n       [1.  , 0.  ],\n       [1.  , 0.  ],\n       [1.  , 0.  ],\n       [1.  , 0.  ],\n       [1.  , 0.  ],\n       [1.  , 0.  ],\n       [1.  , 0.  ],\n       [1.  , 0.  ],\n       [1.  , 0.  ],\n       [1.  , 0.  ],\n       [1.  , 0.  ],\n       [1.  , 0.  ],\n       [1.  , 0.  ],\n       [1.  , 0.  ],\n       [1.  , 0.  ],\n       [1.  , 0.  ],\n       [1.  , 0.  ],\n       [1.  , 0.  ],\n       [1.  , 0.  ],\n       [0.75, 0.  ]])"
     },
     "execution_count": 12,
     "metadata": {},
     "output_type": "execute_result"
    }
   ],
   "source": [
    "l_arr"
   ]
  },
  {
   "cell_type": "code",
   "execution_count": 13,
   "metadata": {
    "collapsed": true,
    "jupyter": {
     "outputs_hidden": true
    },
    "pycharm": {
     "name": "#%%\n"
    },
    "tags": []
   },
   "outputs": [
    {
     "data": {
      "text/plain": "[0.75,\n 1.0,\n 1.0,\n 1.0,\n 1.0,\n 1.0,\n 1.0,\n 1.0,\n 1.0,\n 1.0,\n 1.0,\n 1.0,\n 1.0,\n 1.0,\n 1.0,\n 1.0,\n 1.0,\n 1.0,\n 1.0,\n 1.0,\n 1.0,\n 1.0,\n 1.0,\n 1.0,\n 1.0,\n 1.0,\n 1.0,\n 1.0,\n 1.0,\n 1.0,\n 1.0,\n 1.0,\n 1.0,\n 1.0,\n 1.0,\n 1.0,\n 1.0,\n 1.0,\n 1.0,\n 1.0,\n 1.0,\n 1.0,\n 1.0,\n 1.0,\n 1.0,\n 1.0,\n 1.0,\n 1.0,\n 0.75]"
     },
     "execution_count": 13,
     "metadata": {},
     "output_type": "execute_result"
    }
   ],
   "source": [
    "l_norm"
   ]
  },
  {
   "cell_type": "code",
   "execution_count": null,
   "metadata": {
    "collapsed": false,
    "jupyter": {
     "outputs_hidden": false
    },
    "pycharm": {
     "name": "#%%\n"
    }
   },
   "outputs": [],
   "source": []
  }
 ],
 "metadata": {
  "kernelspec": {
   "display_name": "Python 3.9.7 64-bit ('base': conda)",
   "language": "python",
   "name": "python397jvsc74a57bd043c06eff2d3c08a20de97ffeca20f217c90b06a1cbf0c23ce7e21599f8135f8f"
  },
  "language_info": {
   "codemirror_mode": {
    "name": "ipython",
    "version": 3
   },
   "file_extension": ".py",
   "mimetype": "text/x-python",
   "name": "python",
   "nbconvert_exporter": "python",
   "pygments_lexer": "ipython3",
   "version": "3.9.7"
  },
  "widgets": {
   "application/vnd.jupyter.widget-state+json": {
    "state": {},
    "version_major": 2,
    "version_minor": 0
   }
  }
 },
 "nbformat": 4,
 "nbformat_minor": 4
}