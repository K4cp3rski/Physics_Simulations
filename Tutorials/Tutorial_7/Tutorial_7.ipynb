{
 "cells": [
  {
   "cell_type": "markdown",
   "source": [
    "# Tutorial 7"
   ],
   "metadata": {
    "collapsed": false,
    "pycharm": {
     "name": "#%% md\n"
    }
   }
  },
  {
   "cell_type": "markdown",
   "source": [
    "## Classical Application"
   ],
   "metadata": {
    "collapsed": false,
    "pycharm": {
     "name": "#%% md\n"
    }
   }
  },
  {
   "cell_type": "code",
   "execution_count": 2,
   "outputs": [
    {
     "data": {
      "text/plain": "'\\n\\n  Simple MC for Ising model\\n  * rewritten for readibility, simplified\\n  * with added numba speed-up (order of magnitude)\\n  * code for heat-bath algorithm\\n  * magnetization, susceptibility, plots\\n\\n  @JakubTwo2021\\n\\n'"
     },
     "execution_count": 2,
     "metadata": {},
     "output_type": "execute_result"
    }
   ],
   "source": [
    "import numpy as np\n",
    "from numba import jit\n",
    "from numpy.random import randint, rand\n",
    "\n",
    "import matplotlib.pyplot as plt\n",
    "\"\"\"\n",
    "  Simple MC for Ising model\n",
    "  * rewritten for readibility, simplified\n",
    "  * with added numba speed-up (order of magnitude)\n",
    "  * code for heat-bath algorithm\n",
    "  * magnetization, susceptibility, plots\n",
    "\n",
    "  @JakubTwo2021\n",
    "\"\"\""
   ],
   "metadata": {
    "collapsed": false,
    "pycharm": {
     "name": "#%%\n"
    }
   }
  },
  {
   "cell_type": "code",
   "execution_count": 3,
   "outputs": [],
   "source": [
    "## here @jit means no-python just in time (compilation)\n",
    "## ... comment out to see how much it speeds up ...\n",
    "@jit(nopython=True)\n",
    "def sweepHB(s,beta,L):\n",
    "    # all variables we wish to change in the code should be listed\n",
    "    # no need to return s -- it is just overwritten!\n",
    "\n",
    "    for k in range(L*L):\n",
    "\n",
    "        # pick a random site\n",
    "        ix, iy = randint(L), randint(L)\n",
    "\n",
    "        # calculate the sum over neighbouring spins\n",
    "        sum_loc = ( s[(ix+1)%L,iy] + s[(ix-1)%L,iy]\n",
    "                    + s[ix,(iy+1)%L] + s[ix,(iy-1)%L] )\n",
    "\n",
    "        ## heat-bath\n",
    "        prob_pls = 1./( 1. + np.exp(-2*beta*sum_loc) )\n",
    "        if ( rand() < prob_pls ):\n",
    "            s[ix,iy] =  1\n",
    "        else:\n",
    "            s[ix,iy] = -1"
   ],
   "metadata": {
    "collapsed": false,
    "pycharm": {
     "name": "#%%\n"
    }
   }
  },
  {
   "cell_type": "code",
   "execution_count": 4,
   "metadata": {
    "collapsed": true,
    "pycharm": {
     "name": "#%%\n"
    }
   },
   "outputs": [
    {
     "name": "stdout",
     "output_type": "stream",
     "text": [
      "size temp  magnetization susceptibility\n",
      "  10 5.000   0.1336640    0.5617097\n",
      "  10 4.800   0.1366040    0.6067906\n",
      "  10 4.600   0.1433720    0.6991432\n",
      "  10 4.400   0.1510040    0.8054964\n",
      "  10 4.200   0.1560240    0.9011298\n",
      "  10 4.000   0.1689280    1.0866452\n",
      "  10 3.800   0.1792200    1.2943105\n",
      "  10 3.600   0.1944680    1.6205421\n",
      "  10 3.400   0.2136280    2.0540115\n",
      "  10 3.200   0.2316520    2.5254316\n",
      "  10 3.000   0.2790920    3.7365831\n",
      "  10 2.800   0.3379840    5.8102134\n",
      "  10 2.600   0.4476040    10.2344367\n",
      "  10 2.400   0.6156920    16.6445853\n",
      "  10 2.200   0.8264640    20.7188971\n",
      "  10 2.000   0.9034240    4.1464221\n",
      "  10 1.800   0.9569280    0.1226313\n",
      "  10 1.600   0.9786000    0.0445675\n",
      "  10 1.400   0.9910280    0.0189302\n",
      "  10 1.200   0.9969680    0.0060339\n"
     ]
    },
    {
     "data": {
      "text/plain": "<Figure size 432x288 with 1 Axes>",
      "image/png": "[encoded data removed]"
     },
     "metadata": {
      "needs_background": "light"
     },
     "output_type": "display_data"
    }
   ],
   "source": [
    "mcs_max = 5000\n",
    "mcs_eq  = 5000\n",
    "magnet = np.zeros((mcs_max))\n",
    "\n",
    "print( \"size temp  magnetization susceptibility\" )\n",
    "\n",
    "measure = []\n",
    "tmax,tmin,tst = 5,1,-0.2\n",
    "temp_tab = np.arange(tmax,tmin,tst)\n",
    "Lbig = 10\n",
    "\n",
    "# lattice of ordered spins: Numpy array\n",
    "spins = np.ones( (Lbig,Lbig) )\n",
    "Nbig = Lbig*Lbig\n",
    "\n",
    "for temp in temp_tab:\n",
    "    beta = 1./temp\n",
    "\n",
    "    # equilibration\n",
    "    for mcs in range(mcs_eq):\n",
    "        sweepHB(spins,beta,Lbig)\n",
    "\n",
    "    # accumulate measurements\n",
    "    for mcs in range(mcs_max):\n",
    "        sweepHB(spins,beta,Lbig)\n",
    "        magnet[mcs]= np.sum(spins*1.0/Nbig)\n",
    "\n",
    "    mag = np.mean(np.abs(magnet))\n",
    "    chi = np.var(magnet)*beta*Nbig\n",
    "    measure.append((Lbig,1./beta, mag, chi))\n",
    "    print(\"{0:4d} {1:.3f}   {2:.7f}    {3:.7f}\".\n",
    "          format(Lbig, 1./beta, mag, chi) )\n",
    "\n",
    "\n",
    "# simple plot of the results\n",
    "mtab = np.array(measure)\n",
    "plt.grid()\n",
    "plt.xlim(1,5.1)\n",
    "plt.plot(mtab[:,1], mtab[:,2],'o')\n",
    "\n",
    "plt.savefig('magnet.png')"
   ]
  },
  {
   "cell_type": "markdown",
   "source": [
    "## Quantum application"
   ],
   "metadata": {
    "collapsed": false,
    "pycharm": {
     "name": "#%% md\n"
    }
   }
  },
  {
   "cell_type": "code",
   "execution_count": null,
   "outputs": [],
   "source": [],
   "metadata": {
    "collapsed": false,
    "pycharm": {
     "name": "#%%\n"
    }
   }
  },
  {
   "cell_type": "code",
   "execution_count": 25,
   "outputs": [],
   "source": [
    "## here @jit means no-python just in time (compilation)\n",
    "## ... comment out to see how much it speeds up ...\n",
    "@jit(nopython=True)\n",
    "def sweepHB_Q(s, beta, L, dtau, h, J, M):\n",
    "    # all variables we wish to change in the code should be listed\n",
    "    # no need to return s -- it is just overwritten!\n",
    "    gamma = -0.5*np.log(np.tanh(dtau*h))\n",
    "    for k in range(L*L):\n",
    "\n",
    "        # pick a random site\n",
    "        ix, iy = randint(L), randint(M)\n",
    "\n",
    "        # calculate the sum over neighbouring spins\n",
    "        ham = ( -J*dtau*(s[(ix+1)%L,iy] + s[(ix-1)%L,iy])\n",
    "                    - gamma*(s[ix,(iy+1)%M] + s[ix,(iy-1)%M]) )\n",
    "\n",
    "        ## heat-bath\n",
    "        prob_pls = 1./( 1. + np.exp(2*ham) )\n",
    "        if ( rand() < prob_pls ):\n",
    "            s[ix,iy] =  1\n",
    "        else:\n",
    "            s[ix,iy] = -1"
   ],
   "metadata": {
    "collapsed": false,
    "pycharm": {
     "name": "#%%\n"
    }
   }
  },
  {
   "cell_type": "code",
   "execution_count": 31,
   "outputs": [],
   "source": [
    "def onsager(h, beta, M, J):\n",
    "    return np.power((1 - np.power((np.sinh(beta*h/M))/(np.sinh(beta*J/M)), 2)), 1/8)"
   ],
   "metadata": {
    "collapsed": false,
    "pycharm": {
     "name": "#%%\n"
    }
   }
  },
  {
   "cell_type": "code",
   "execution_count": 39,
   "outputs": [
    {
     "name": "stdout",
     "output_type": "stream",
     "text": [
      "size h  magnetization susceptibility  theory\n",
      "  20 0.100   0.9988000    0.0434000  0.9987560 \n",
      "  20 0.150   0.9975700    0.0804902  0.9971852 \n",
      "  20 0.200   0.9951700    0.1382622  0.9949561 \n",
      "  20 0.250   0.9935800    0.1641272  0.9920365 \n",
      "  20 0.300   0.9907010    0.2655272  0.9883828 \n",
      "  20 0.350   0.9850580    0.4801133  0.9839366 \n",
      "  20 0.400   0.9791560    0.9378953  0.9786218 \n",
      "  20 0.450   0.9755380    0.9027611  0.9723386 \n",
      "  20 0.500   0.9652950    1.6598759  0.9649562 \n",
      "  20 0.550   0.9581590    2.1265514  0.9563001 \n",
      "  20 0.600   0.9478030    2.6520564  0.9461334 \n",
      "  20 0.650   0.9444660    2.2822297  0.9341253 \n",
      "  20 0.700   0.7845030    1248.7419587  0.9197951 \n",
      "  20 0.750   0.9088010    8.0538548  0.9024087 \n",
      "  20 0.800   0.8952840    7.8449187  0.8807599 \n",
      "  20 0.850   0.8839990    7.4821460  0.8526461 \n",
      "  20 0.900   0.8622820    15.9338050  0.8132963 \n",
      "  20 0.950   0.6039890    680.9738722  0.7483010 \n",
      "  20 1.050   0.6530150    131.3900919  -1.0000000 \n",
      "  20 1.100   0.7311040    40.7748824  -1.0000000 \n",
      "  20 1.150   0.5250350    548.4840400  -1.0000000 \n",
      "  20 1.200   0.5469620    513.8829746  -1.0000000 \n",
      "  20 1.250   0.4050610    422.9629017  -1.0000000 \n",
      "  20 1.300   0.3873460    371.0669838  -1.0000000 \n",
      "  20 1.350   0.3560200    303.3974828  -1.0000000 \n",
      "  20 1.400   0.2634050    214.2696319  -1.0000000 \n",
      "  20 1.450   0.2779530    217.3188363  -1.0000000 \n",
      "  20 1.500   0.2480810    183.7708978  -1.0000000 \n",
      "  20 1.550   0.2122800    130.8828947  -1.0000000 \n",
      "  20 1.600   0.2264500    149.4583267  -1.0000000 \n",
      "  20 1.650   0.2021300    111.7313600  -1.0000000 \n",
      "  20 1.700   0.1836600    92.4421863  -1.0000000 \n",
      "  20 1.750   0.1658760    81.7332374  -1.0000000 \n",
      "  20 1.800   0.1833070    99.1715899  -1.0000000 \n",
      "  20 1.850   0.1631710    81.4194220  -1.0000000 \n",
      "  20 1.900   0.1597340    74.2315408  -1.0000000 \n",
      "  20 1.950   0.1452820    65.4934129  -1.0000000 \n",
      "  20 2.000   0.1555660    72.0006614  -1.0000000 \n",
      "  20 2.050   0.1374430    59.9070995  -1.0000000 \n",
      "  20 2.100   0.1393730    60.6231198  -1.0000000 \n",
      "  20 2.150   0.1336300    53.2009160  -1.0000000 \n",
      "  20 2.200   0.1357860    56.5181102  -1.0000000 \n",
      "  20 2.250   0.1234060    46.0148373  -1.0000000 \n",
      "  20 2.300   0.1211860    45.3084625  -1.0000000 \n",
      "  20 2.350   0.1196260    42.3759026  -1.0000000 \n",
      "  20 2.400   0.1227200    45.3244136  -1.0000000 \n",
      "  20 2.450   0.1052440    34.0951776  -1.0000000 \n",
      "  20 2.500   0.1050990    34.7568732  -1.0000000 \n",
      "  20 2.550   0.1034200    33.4404320  -1.0000000 \n",
      "  20 2.600   0.1055000    35.0152507  -1.0000000 \n",
      "  20 2.650   0.1022260    32.6175272  -1.0000000 \n",
      "  20 2.700   0.1018380    31.9265005  -1.0000000 \n",
      "  20 2.750   0.0958410    28.2485427  -1.0000000 \n",
      "  20 2.800   0.0939950    28.0514578  -1.0000000 \n",
      "  20 2.850   0.0922670    26.6077420  -1.0000000 \n",
      "  20 2.900   0.0915510    25.8366080  -1.0000000 \n",
      "  20 2.950   0.0874230    23.4834556  -1.0000000 \n"
     ]
    }
   ],
   "source": [
    "mcs_max = 5000\n",
    "mcs_eq  = 5000\n",
    "magnet = np.zeros((mcs_max))\n",
    "beta = 5\n",
    "J = 1\n",
    "M = 30\n",
    "dtau = beta/M\n",
    "\n",
    "print( \"size h  magnetization susceptibility  theory\" )\n",
    "\n",
    "measure = []\n",
    "hmin,hmax,hst = 0.1,3,0.05\n",
    "h_tab_theory = np.arange(hmin,1,hst)\n",
    "h_tab = np.concatenate((h_tab_theory, np.arange(1+hst,hmax,hst)))\n",
    "Lbig = 20\n",
    "\n",
    "# lattice of ordered spins: Numpy array\n",
    "spins = np.ones( (Lbig,Lbig) )\n",
    "Nbig = Lbig*Lbig\n",
    "\n",
    "for h in h_tab:\n",
    "\n",
    "    # equilibration\n",
    "    for mcs in range(mcs_eq):\n",
    "        sweepHB_Q(spins,beta,Lbig, dtau, h, J, M)\n",
    "\n",
    "    # accumulate measurements\n",
    "    for mcs in range(mcs_max):\n",
    "        sweepHB_Q(spins,beta,Lbig, dtau, h, J, M)\n",
    "        magnet[mcs]= np.sum(spins*1.0/Nbig)\n",
    "\n",
    "    mag = np.mean(np.abs(magnet))\n",
    "    chi = np.var(magnet)*beta*Nbig\n",
    "    if h < J:\n",
    "        theory = onsager(h, beta, M, J)\n",
    "    else:\n",
    "        theory = -1.0\n",
    "    measure.append((Lbig, h, mag, chi, theory))\n",
    "    print(\"{0:4d} {1:.3f}   {2:.7f}    {3:.7f}  {4:.7f} \".\n",
    "          format(Lbig, h, mag, chi, theory) )"
   ],
   "metadata": {
    "collapsed": false,
    "pycharm": {
     "name": "#%%\n"
    }
   }
  },
  {
   "cell_type": "code",
   "execution_count": 40,
   "outputs": [
    {
     "data": {
      "text/plain": "<Figure size 432x288 with 1 Axes>",
      "image/png": "[encoded data removed]"
     },
     "metadata": {
      "needs_background": "light"
     },
     "output_type": "display_data"
    }
   ],
   "source": [
    "# simple plot of the results\n",
    "mtab = np.array(measure)\n",
    "plt.grid()\n",
    "# plt.xlim(1,5.1)\n",
    "plt.plot(mtab[:,1], mtab[:,2],'o')\n",
    "plt.plot(h_tab_theory, onsager(h_tab_theory, beta, M, J))\n",
    "\n",
    "plt.savefig('magnet_Q.png')"
   ],
   "metadata": {
    "collapsed": false,
    "pycharm": {
     "name": "#%%\n"
    }
   }
  },
  {
   "cell_type": "code",
   "execution_count": null,
   "outputs": [],
   "source": [],
   "metadata": {
    "collapsed": false,
    "pycharm": {
     "name": "#%%\n"
    }
   }
  }
 ],
 "metadata": {
  "kernelspec": {
   "name": "python397jvsc74a57bd043c06eff2d3c08a20de97ffeca20f217c90b06a1cbf0c23ce7e21599f8135f8f",
   "language": "python",
   "display_name": "Python 3.9.7 64-bit ('base': conda)"
  },
  "language_info": {
   "codemirror_mode": {
    "name": "ipython",
    "version": 2
   },
   "file_extension": ".py",
   "mimetype": "text/x-python",
   "name": "python",
   "nbconvert_exporter": "python",
   "pygments_lexer": "ipython2",
   "version": "2.7.6"
  }
 },
 "nbformat": 4,
 "nbformat_minor": 0
}