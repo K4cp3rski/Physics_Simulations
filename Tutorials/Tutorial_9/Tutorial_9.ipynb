{
 "cells": [
  {
   "cell_type": "markdown",
   "source": [
    "# Tutorial 9"
   ],
   "metadata": {
    "collapsed": false,
    "pycharm": {
     "name": "#%% md\n"
    }
   }
  },
  {
   "cell_type": "code",
   "execution_count": 2,
   "outputs": [],
   "source": [
    "import numpy as np\n",
    "from numpy import kron\n",
    "import matplotlib.pyplot as plt"
   ],
   "metadata": {
    "collapsed": false,
    "pycharm": {
     "name": "#%%\n"
    }
   }
  },
  {
   "cell_type": "code",
   "execution_count": 3,
   "outputs": [],
   "source": [
    "lbd = 0.5"
   ],
   "metadata": {
    "collapsed": false,
    "pycharm": {
     "name": "#%%\n"
    }
   }
  },
  {
   "cell_type": "code",
   "execution_count": 4,
   "outputs": [],
   "source": [
    "h1 = 0.6\n",
    "h2 = 0\n",
    "h3 = 0\n",
    "hi = [h1, h2, h3]\n",
    "J12 = -1.1\n",
    "J13 = -2.1\n",
    "J23 = -3.8\n",
    "Ji = [J12, J13, J23]"
   ],
   "metadata": {
    "collapsed": false,
    "pycharm": {
     "name": "#%%\n"
    }
   }
  },
  {
   "cell_type": "code",
   "execution_count": 5,
   "outputs": [],
   "source": [
    "Sx = np.array([[0., 1.], [1., 0.]])\n",
    "Sz = np.array([[1., 0.],[0.,-1.]])\n",
    "one = np.eye(2)"
   ],
   "metadata": {
    "collapsed": false,
    "pycharm": {
     "name": "#%%\n"
    }
   }
  },
  {
   "cell_type": "code",
   "execution_count": 6,
   "outputs": [],
   "source": [
    "Sz_1 = kron(Sz, kron(one, one))\n",
    "Sz_2 = kron(one, kron(Sz, one))\n",
    "Sz_3 = kron(one, kron(one, Sz))\n",
    "Sz_i = [Sz_1, Sz_2, Sz_3]"
   ],
   "metadata": {
    "collapsed": false,
    "pycharm": {
     "name": "#%%\n"
    }
   }
  },
  {
   "cell_type": "code",
   "execution_count": 7,
   "outputs": [],
   "source": [
    "Sx_1 = kron(Sx, kron(one, one))\n",
    "Sx_2 = kron(one, kron(Sx, one))\n",
    "Sx_3 = kron(one, kron(one, Sx))\n",
    "Sx_i = [Sx_1, Sx_2, Sx_3]"
   ],
   "metadata": {
    "collapsed": false,
    "pycharm": {
     "name": "#%%\n"
    }
   }
  },
  {
   "cell_type": "code",
   "execution_count": 8,
   "outputs": [],
   "source": [
    "H0 = -np.sum(Sx_i, axis=0)"
   ],
   "metadata": {
    "collapsed": false,
    "pycharm": {
     "name": "#%%\n"
    }
   }
  },
  {
   "cell_type": "code",
   "execution_count": 9,
   "outputs": [
    {
     "data": {
      "text/plain": "array([[-0., -1., -1., -0., -1., -0., -0., -0.],\n       [-1., -0., -0., -1., -0., -1., -0., -0.],\n       [-1., -0., -0., -1., -0., -0., -1., -0.],\n       [-0., -1., -1., -0., -0., -0., -0., -1.],\n       [-1., -0., -0., -0., -0., -1., -1., -0.],\n       [-0., -1., -0., -0., -1., -0., -0., -1.],\n       [-0., -0., -1., -0., -1., -0., -0., -1.],\n       [-0., -0., -0., -1., -0., -1., -1., -0.]])"
     },
     "execution_count": 9,
     "metadata": {},
     "output_type": "execute_result"
    }
   ],
   "source": [
    "H0"
   ],
   "metadata": {
    "collapsed": false,
    "pycharm": {
     "name": "#%%\n"
    }
   }
  },
  {
   "cell_type": "code",
   "execution_count": 10,
   "outputs": [],
   "source": [
    "H1 = -np.sum(([J12*Sz_1*Sz_2, J13*Sz_1*Sz_3, J23*Sz_2*Sz_3]), axis=0) - np.sum([(lambda i: hi[i]*Sz_i[i])(i) for i in range(3)], axis=0)"
   ],
   "metadata": {
    "collapsed": false,
    "pycharm": {
     "name": "#%%\n"
    }
   }
  },
  {
   "cell_type": "code",
   "execution_count": 11,
   "outputs": [
    {
     "data": {
      "text/plain": "array([[ 6.40000000e+00, -0.00000000e+00, -0.00000000e+00,\n        -0.00000000e+00, -0.00000000e+00, -0.00000000e+00,\n        -0.00000000e+00, -0.00000000e+00],\n       [-0.00000000e+00, -5.40000000e+00, -0.00000000e+00,\n        -0.00000000e+00, -0.00000000e+00, -0.00000000e+00,\n        -0.00000000e+00, -0.00000000e+00],\n       [-0.00000000e+00, -0.00000000e+00, -3.40000000e+00,\n        -0.00000000e+00, -0.00000000e+00, -0.00000000e+00,\n        -0.00000000e+00, -0.00000000e+00],\n       [-0.00000000e+00, -0.00000000e+00, -0.00000000e+00,\n        -3.33066907e-16, -0.00000000e+00, -0.00000000e+00,\n        -0.00000000e+00, -0.00000000e+00],\n       [-0.00000000e+00, -0.00000000e+00, -0.00000000e+00,\n        -0.00000000e+00,  1.20000000e+00, -0.00000000e+00,\n        -0.00000000e+00, -0.00000000e+00],\n       [-0.00000000e+00, -0.00000000e+00, -0.00000000e+00,\n        -0.00000000e+00, -0.00000000e+00, -2.20000000e+00,\n        -0.00000000e+00, -0.00000000e+00],\n       [-0.00000000e+00, -0.00000000e+00, -0.00000000e+00,\n        -0.00000000e+00, -0.00000000e+00, -0.00000000e+00,\n        -4.20000000e+00, -0.00000000e+00],\n       [-0.00000000e+00, -0.00000000e+00, -0.00000000e+00,\n        -0.00000000e+00, -0.00000000e+00, -0.00000000e+00,\n        -0.00000000e+00,  7.60000000e+00]])"
     },
     "execution_count": 11,
     "metadata": {},
     "output_type": "execute_result"
    }
   ],
   "source": [
    "H1"
   ],
   "metadata": {
    "collapsed": false,
    "pycharm": {
     "name": "#%%\n"
    }
   }
  },
  {
   "cell_type": "code",
   "execution_count": 12,
   "outputs": [],
   "source": [
    "H = (1-lbd)*H0 + lbd*H1"
   ],
   "metadata": {
    "collapsed": false,
    "pycharm": {
     "name": "#%%\n"
    }
   }
  },
  {
   "cell_type": "code",
   "execution_count": 13,
   "outputs": [
    {
     "data": {
      "text/plain": "array([[ 3.20000000e+00, -5.00000000e-01, -5.00000000e-01,\n        -0.00000000e+00, -5.00000000e-01, -0.00000000e+00,\n        -0.00000000e+00, -0.00000000e+00],\n       [-5.00000000e-01, -2.70000000e+00, -0.00000000e+00,\n        -5.00000000e-01, -0.00000000e+00, -5.00000000e-01,\n        -0.00000000e+00, -0.00000000e+00],\n       [-5.00000000e-01, -0.00000000e+00, -1.70000000e+00,\n        -5.00000000e-01, -0.00000000e+00, -0.00000000e+00,\n        -5.00000000e-01, -0.00000000e+00],\n       [-0.00000000e+00, -5.00000000e-01, -5.00000000e-01,\n        -1.66533454e-16, -0.00000000e+00, -0.00000000e+00,\n        -0.00000000e+00, -5.00000000e-01],\n       [-5.00000000e-01, -0.00000000e+00, -0.00000000e+00,\n        -0.00000000e+00,  6.00000000e-01, -5.00000000e-01,\n        -5.00000000e-01, -0.00000000e+00],\n       [-0.00000000e+00, -5.00000000e-01, -0.00000000e+00,\n        -0.00000000e+00, -5.00000000e-01, -1.10000000e+00,\n        -0.00000000e+00, -5.00000000e-01],\n       [-0.00000000e+00, -0.00000000e+00, -5.00000000e-01,\n        -0.00000000e+00, -5.00000000e-01, -0.00000000e+00,\n        -2.10000000e+00, -5.00000000e-01],\n       [-0.00000000e+00, -0.00000000e+00, -0.00000000e+00,\n        -5.00000000e-01, -0.00000000e+00, -5.00000000e-01,\n        -5.00000000e-01,  3.80000000e+00]])"
     },
     "execution_count": 13,
     "metadata": {},
     "output_type": "execute_result"
    }
   ],
   "source": [
    "H"
   ],
   "metadata": {
    "collapsed": false,
    "pycharm": {
     "name": "#%%\n"
    }
   }
  },
  {
   "cell_type": "code",
   "execution_count": 14,
   "outputs": [],
   "source": [
    "energies = np.linalg.eigvals(H)"
   ],
   "metadata": {
    "collapsed": false,
    "pycharm": {
     "name": "#%%\n"
    }
   }
  },
  {
   "cell_type": "code",
   "execution_count": 15,
   "outputs": [],
   "source": [
    "energies.sort()"
   ],
   "metadata": {
    "collapsed": false,
    "pycharm": {
     "name": "#%%\n"
    }
   }
  },
  {
   "cell_type": "code",
   "execution_count": 16,
   "outputs": [],
   "source": [
    "delta_e = energies[1] - energies[0]"
   ],
   "metadata": {
    "collapsed": false,
    "pycharm": {
     "name": "#%%\n"
    }
   }
  },
  {
   "cell_type": "code",
   "execution_count": 17,
   "outputs": [
    {
     "data": {
      "text/plain": "0.45021335289100195"
     },
     "execution_count": 17,
     "metadata": {},
     "output_type": "execute_result"
    }
   ],
   "source": [
    "delta_e"
   ],
   "metadata": {
    "collapsed": false,
    "pycharm": {
     "name": "#%%\n"
    }
   }
  },
  {
   "cell_type": "code",
   "execution_count": 18,
   "outputs": [],
   "source": [
    "eigvecs = np.linalg.eig(H)"
   ],
   "metadata": {
    "collapsed": false,
    "pycharm": {
     "name": "#%%\n"
    }
   }
  },
  {
   "cell_type": "code",
   "execution_count": 19,
   "outputs": [
    {
     "data": {
      "text/plain": "(array([ 3.38712257,  3.96202241,  0.7129335 ,  0.1414105 , -3.00219923,\n        -2.55198587, -1.55516268, -1.09414121]),\n array([[ 0.97176651,  0.05312026,  0.18508474, -0.06963576,  0.09251386,\n         -0.03419451, -0.06211006,  0.01252368],\n        [-0.08296801, -0.02138435,  0.00111101, -0.15696856,  0.90754929,\n          0.25898121,  0.01616228, -0.27756164],\n        [-0.09903214, -0.02368548, -0.01700664, -0.24536532,  0.1678597 ,\n         -0.52445329, -0.76925021,  0.18483573],\n        [ 0.01658089,  0.12935497,  0.05046754,  0.94348958,  0.18662067,\n         -0.06492154, -0.22603276, -0.0118287 ],\n        [-0.18167875, -0.03588782,  0.93653173, -0.02364055,  0.07216976,\n         -0.1279006 ,  0.16240108,  0.20028278],\n        [ 0.02172546,  0.10245084, -0.24313588,  0.01817042,  0.26938685,\n          0.02245029,  0.25113645,  0.89075462],\n        [ 0.01922991,  0.0857402 , -0.15348047,  0.02978273,  0.15803901,\n         -0.79453755,  0.5109751 , -0.22466368],\n        [ 0.06967716, -0.97994477, -0.05606436,  0.13549521,  0.04513588,\n         -0.0658856 ,  0.05005252,  0.06684137]]))"
     },
     "execution_count": 19,
     "metadata": {},
     "output_type": "execute_result"
    }
   ],
   "source": [
    "eigvecs"
   ],
   "metadata": {
    "collapsed": false,
    "pycharm": {
     "name": "#%%\n"
    }
   }
  },
  {
   "cell_type": "code",
   "execution_count": 20,
   "outputs": [],
   "source": [
    "GS = eigvecs[1][:, np.argmin(eigvecs[0])]"
   ],
   "metadata": {
    "collapsed": false,
    "pycharm": {
     "name": "#%%\n"
    }
   }
  },
  {
   "cell_type": "code",
   "execution_count": 21,
   "outputs": [
    {
     "data": {
      "text/plain": "array([0.09251386, 0.90754929, 0.1678597 , 0.18662067, 0.07216976,\n       0.26938685, 0.15803901, 0.04513588])"
     },
     "execution_count": 21,
     "metadata": {},
     "output_type": "execute_result"
    }
   ],
   "source": [
    "GS"
   ],
   "metadata": {
    "collapsed": false,
    "pycharm": {
     "name": "#%%\n"
    }
   }
  },
  {
   "cell_type": "code",
   "execution_count": 22,
   "outputs": [],
   "source": [
    "lbd_tab = np.arange(0,1,0.0001)\n",
    "delta_e_tab = []\n",
    "sz_i_exp_tab = [[],[],[]]\n",
    "for lbd in lbd_tab:\n",
    "    # Our hermitian matrix\n",
    "    H = (1-lbd)*H0 + lbd*H1\n",
    "    # Eigenenergies\n",
    "    energies = np.linalg.eigvals(H)\n",
    "    energies.sort()\n",
    "    # Band gap as difference between two smalles eigenenergies\n",
    "    delta_e = energies[1] - energies[0]\n",
    "    eigvecs = np.linalg.eig(H)\n",
    "    #Ground state - corresponding to the lowest eigenenergy\n",
    "    GS = eigvecs[1][:, np.argmin(eigvecs[0])]\n",
    "    sz_1_exp = float(np.dot(GS.reshape(1, -1), np.dot(Sz_1, GS)))\n",
    "    sz_2_exp = float(np.dot(GS.reshape(1, -1), np.dot(Sz_2, GS)))\n",
    "    sz_3_exp = float(np.dot(GS.reshape(1, -1), np.dot(Sz_3, GS)))\n",
    "\n",
    "    sz_i_exp_tab[0].append(sz_1_exp)\n",
    "    sz_i_exp_tab[1].append(sz_2_exp)\n",
    "    sz_i_exp_tab[2].append(sz_3_exp)\n",
    "    delta_e_tab.append(delta_e)"
   ],
   "metadata": {
    "collapsed": false,
    "pycharm": {
     "name": "#%%\n"
    }
   }
  },
  {
   "cell_type": "code",
   "execution_count": 23,
   "outputs": [
    {
     "data": {
      "text/plain": "Text(0, 0.5, '$\\\\Delta E$')"
     },
     "execution_count": 23,
     "metadata": {},
     "output_type": "execute_result"
    },
    {
     "data": {
      "text/plain": "<Figure size 432x288 with 1 Axes>",
      "image/png": "[encoded data removed]"
     },
     "metadata": {},
     "output_type": "display_data"
    }
   ],
   "source": [
    "plt.plot(delta_e_tab)\n",
    "plt.title(\"$\\Delta E(\\lambda)$\")\n",
    "plt.xlabel(\"$\\lambda$\")\n",
    "plt.ylabel(\"$\\Delta E$\")"
   ],
   "metadata": {
    "collapsed": false,
    "pycharm": {
     "name": "#%%\n"
    }
   }
  },
  {
   "cell_type": "code",
   "execution_count": 24,
   "outputs": [],
   "source": [
    "T_aqc = np.sum([(lambda i: 1/(delta_e_tab[i]**2))(i) for i in range(len(delta_e_tab))])/len(delta_e_tab)"
   ],
   "metadata": {
    "collapsed": false,
    "pycharm": {
     "name": "#%%\n"
    }
   }
  },
  {
   "cell_type": "markdown",
   "source": [
    "Here I don't know if I didn't fail something, as it scales with subdivisions of lambda interval"
   ],
   "metadata": {
    "collapsed": false,
    "pycharm": {
     "name": "#%% md\n"
    }
   }
  },
  {
   "cell_type": "code",
   "execution_count": 25,
   "outputs": [
    {
     "name": "stdout",
     "output_type": "stream",
     "text": [
      "Optimal running time of the adiabatic evolution is 2.075 s\n"
     ]
    }
   ],
   "source": [
    "print(\"Optimal running time of the adiabatic evolution is {:.3f} s\".format(T_aqc))"
   ],
   "metadata": {
    "collapsed": false,
    "pycharm": {
     "name": "#%%\n"
    }
   }
  },
  {
   "cell_type": "code",
   "execution_count": 26,
   "outputs": [
    {
     "data": {
      "text/plain": "<matplotlib.legend.Legend at 0x17f60f520>"
     },
     "execution_count": 26,
     "metadata": {},
     "output_type": "execute_result"
    },
    {
     "data": {
      "text/plain": "<Figure size 432x288 with 1 Axes>",
      "image/png": "[encoded data removed]"
     },
     "metadata": {},
     "output_type": "display_data"
    }
   ],
   "source": [
    "plt.plot(sz_i_exp_tab[0], label=\"$S^z_1$\")\n",
    "plt.plot(sz_i_exp_tab[1], label=\"$S^z_2$\")\n",
    "plt.plot(sz_i_exp_tab[2], label=\"$S^z_3$\")\n",
    "plt.legend()"
   ],
   "metadata": {
    "collapsed": false,
    "pycharm": {
     "name": "#%%\n"
    }
   }
  }
 ],
 "metadata": {
  "kernelspec": {
   "display_name": "Python 3",
   "language": "python",
   "name": "python3"
  },
  "language_info": {
   "codemirror_mode": {
    "name": "ipython",
    "version": 2
   },
   "file_extension": ".py",
   "mimetype": "text/x-python",
   "name": "python",
   "nbconvert_exporter": "python",
   "pygments_lexer": "ipython2",
   "version": "2.7.6"
  }
 },
 "nbformat": 4,
 "nbformat_minor": 0
}